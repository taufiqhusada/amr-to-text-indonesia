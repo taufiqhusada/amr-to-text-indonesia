{
 "cells": [
  {
   "cell_type": "code",
   "execution_count": 1,
   "metadata": {},
   "outputs": [],
   "source": [
    "import pandas as pd"
   ]
  },
  {
   "cell_type": "code",
   "execution_count": 2,
   "metadata": {},
   "outputs": [],
   "source": [
    "df_result = pd.read_csv('result_with_score.csv')"
   ]
  },
  {
   "cell_type": "code",
   "execution_count": 3,
   "metadata": {},
   "outputs": [
    {
     "data": {
      "text/html": [
       "<div>\n",
       "<style scoped>\n",
       "    .dataframe tbody tr th:only-of-type {\n",
       "        vertical-align: middle;\n",
       "    }\n",
       "\n",
       "    .dataframe tbody tr th {\n",
       "        vertical-align: top;\n",
       "    }\n",
       "\n",
       "    .dataframe thead th {\n",
       "        text-align: right;\n",
       "    }\n",
       "</style>\n",
       "<table border=\"1\" class=\"dataframe\">\n",
       "  <thead>\n",
       "    <tr style=\"text-align: right;\">\n",
       "      <th></th>\n",
       "      <th>pred</th>\n",
       "      <th>label</th>\n",
       "      <th>rouge1</th>\n",
       "      <th>rouge2</th>\n",
       "      <th>rougeL</th>\n",
       "    </tr>\n",
       "  </thead>\n",
       "  <tbody>\n",
       "    <tr>\n",
       "      <th>0</th>\n",
       "      <td>daisies and poppies still life vase with van g...</td>\n",
       "      <td>sebuah mahakarya vincent van gogh, yang diluki...</td>\n",
       "      <td>0.200000</td>\n",
       "      <td>0.052632</td>\n",
       "      <td>0.200000</td>\n",
       "    </tr>\n",
       "    <tr>\n",
       "      <th>1</th>\n",
       "      <td>agustus, mereka akan pindah mendaftar naik bus...</td>\n",
       "      <td>ribuan pengungsi suriah punya waktu hingga sel...</td>\n",
       "      <td>0.227273</td>\n",
       "      <td>0.047619</td>\n",
       "      <td>0.136364</td>\n",
       "    </tr>\n",
       "    <tr>\n",
       "      <th>2</th>\n",
       "      <td>dan chapecoense klub bermain di dunia sepak bo...</td>\n",
       "      <td>ribuan orang berkumpul di kota chapeco, brasil...</td>\n",
       "      <td>0.292683</td>\n",
       "      <td>0.102564</td>\n",
       "      <td>0.146341</td>\n",
       "    </tr>\n",
       "    <tr>\n",
       "      <th>3</th>\n",
       "      <td>serangan yang katanya tumbuh dari kelompok ope...</td>\n",
       "      <td>kelompok militan kurdi tak mengatakan pihaknya...</td>\n",
       "      <td>0.222222</td>\n",
       "      <td>0.000000</td>\n",
       "      <td>0.166667</td>\n",
       "    </tr>\n",
       "    <tr>\n",
       "      <th>4</th>\n",
       "      <td>tidak ada laporan dokter india yang terserang ...</td>\n",
       "      <td>sejumlah tenaga kesehatan di india dilaporkan ...</td>\n",
       "      <td>0.235294</td>\n",
       "      <td>0.062500</td>\n",
       "      <td>0.176471</td>\n",
       "    </tr>\n",
       "    <tr>\n",
       "      <th>...</th>\n",
       "      <td>...</td>\n",
       "      <td>...</td>\n",
       "      <td>...</td>\n",
       "      <td>...</td>\n",
       "      <td>...</td>\n",
       "    </tr>\n",
       "    <tr>\n",
       "      <th>4775</th>\n",
       "      <td>di kawasan martin place dan kafe lindt dikepun...</td>\n",
       "      <td>sedikitnya seorang pria bersenjata menyandera ...</td>\n",
       "      <td>0.292683</td>\n",
       "      <td>0.102564</td>\n",
       "      <td>0.195122</td>\n",
       "    </tr>\n",
       "    <tr>\n",
       "      <th>4776</th>\n",
       "      <td>terdakwa menyalahgunakan kewenangan hukum putu...</td>\n",
       "      <td>mantan deputi gubernur bank indonesia, budi mu...</td>\n",
       "      <td>0.200000</td>\n",
       "      <td>0.000000</td>\n",
       "      <td>0.080000</td>\n",
       "    </tr>\n",
       "    <tr>\n",
       "      <th>4777</th>\n",
       "      <td>kehidupan yang didapatkan yahudi dunia dari le...</td>\n",
       "      <td>kanselir jerman angela merkel mulai berbicara ...</td>\n",
       "      <td>0.307692</td>\n",
       "      <td>0.054054</td>\n",
       "      <td>0.205128</td>\n",
       "    </tr>\n",
       "    <tr>\n",
       "      <th>4778</th>\n",
       "      <td>pertandingan liga eropa besar di stadion yang ...</td>\n",
       "      <td>penampilan as roma tak kunjung membaik setelah...</td>\n",
       "      <td>0.185185</td>\n",
       "      <td>0.076923</td>\n",
       "      <td>0.074074</td>\n",
       "    </tr>\n",
       "    <tr>\n",
       "      <th>4779</th>\n",
       "      <td>tahun ini, video asli mengejutkan -of milisi d...</td>\n",
       "      <td>daulah islamiyah atau yang sebelumnya dikenal ...</td>\n",
       "      <td>0.263158</td>\n",
       "      <td>0.111111</td>\n",
       "      <td>0.210526</td>\n",
       "    </tr>\n",
       "  </tbody>\n",
       "</table>\n",
       "<p>4780 rows × 5 columns</p>\n",
       "</div>"
      ],
      "text/plain": [
       "                                                   pred  \\\n",
       "0     daisies and poppies still life vase with van g...   \n",
       "1     agustus, mereka akan pindah mendaftar naik bus...   \n",
       "2     dan chapecoense klub bermain di dunia sepak bo...   \n",
       "3     serangan yang katanya tumbuh dari kelompok ope...   \n",
       "4     tidak ada laporan dokter india yang terserang ...   \n",
       "...                                                 ...   \n",
       "4775  di kawasan martin place dan kafe lindt dikepun...   \n",
       "4776  terdakwa menyalahgunakan kewenangan hukum putu...   \n",
       "4777  kehidupan yang didapatkan yahudi dunia dari le...   \n",
       "4778  pertandingan liga eropa besar di stadion yang ...   \n",
       "4779  tahun ini, video asli mengejutkan -of milisi d...   \n",
       "\n",
       "                                                  label    rouge1    rouge2  \\\n",
       "0     sebuah mahakarya vincent van gogh, yang diluki...  0.200000  0.052632   \n",
       "1     ribuan pengungsi suriah punya waktu hingga sel...  0.227273  0.047619   \n",
       "2     ribuan orang berkumpul di kota chapeco, brasil...  0.292683  0.102564   \n",
       "3     kelompok militan kurdi tak mengatakan pihaknya...  0.222222  0.000000   \n",
       "4     sejumlah tenaga kesehatan di india dilaporkan ...  0.235294  0.062500   \n",
       "...                                                 ...       ...       ...   \n",
       "4775  sedikitnya seorang pria bersenjata menyandera ...  0.292683  0.102564   \n",
       "4776  mantan deputi gubernur bank indonesia, budi mu...  0.200000  0.000000   \n",
       "4777  kanselir jerman angela merkel mulai berbicara ...  0.307692  0.054054   \n",
       "4778  penampilan as roma tak kunjung membaik setelah...  0.185185  0.076923   \n",
       "4779  daulah islamiyah atau yang sebelumnya dikenal ...  0.263158  0.111111   \n",
       "\n",
       "        rougeL  \n",
       "0     0.200000  \n",
       "1     0.136364  \n",
       "2     0.146341  \n",
       "3     0.166667  \n",
       "4     0.176471  \n",
       "...        ...  \n",
       "4775  0.195122  \n",
       "4776  0.080000  \n",
       "4777  0.205128  \n",
       "4778  0.074074  \n",
       "4779  0.210526  \n",
       "\n",
       "[4780 rows x 5 columns]"
      ]
     },
     "execution_count": 3,
     "metadata": {},
     "output_type": "execute_result"
    }
   ],
   "source": [
    "df_result"
   ]
  },
  {
   "cell_type": "code",
   "execution_count": 4,
   "metadata": {},
   "outputs": [],
   "source": [
    "df_baseline = pd.read_csv('baseline_postprocess.csv')"
   ]
  },
  {
   "cell_type": "code",
   "execution_count": 5,
   "metadata": {},
   "outputs": [
    {
     "data": {
      "text/html": [
       "<div>\n",
       "<style scoped>\n",
       "    .dataframe tbody tr th:only-of-type {\n",
       "        vertical-align: middle;\n",
       "    }\n",
       "\n",
       "    .dataframe tbody tr th {\n",
       "        vertical-align: top;\n",
       "    }\n",
       "\n",
       "    .dataframe thead th {\n",
       "        text-align: right;\n",
       "    }\n",
       "</style>\n",
       "<table border=\"1\" class=\"dataframe\">\n",
       "  <thead>\n",
       "    <tr style=\"text-align: right;\">\n",
       "      <th></th>\n",
       "      <th>simple_nlg</th>\n",
       "      <th>postprocess</th>\n",
       "      <th>label</th>\n",
       "      <th>rouge1</th>\n",
       "      <th>rouge2</th>\n",
       "      <th>rougeL</th>\n",
       "    </tr>\n",
       "  </thead>\n",
       "  <tbody>\n",
       "    <tr>\n",
       "      <th>0</th>\n",
       "      <td>with van lukisan juta vase meninggal tahun pop...</td>\n",
       "      <td>Still Life, Vase with Daisies, and Poppies dib...</td>\n",
       "      <td>sebuah mahakarya vincent van gogh, yang diluki...</td>\n",
       "      <td>0.226415</td>\n",
       "      <td>0.039216</td>\n",
       "      <td>0.150943</td>\n",
       "    </tr>\n",
       "    <tr>\n",
       "      <th>1</th>\n",
       "      <td>migran dukungan pemerintah orang kembali agust...</td>\n",
       "      <td>Pihak berwenang mengatakan migran tak terdafta...</td>\n",
       "      <td>ribuan pengungsi suriah punya waktu hingga sel...</td>\n",
       "      <td>0.210526</td>\n",
       "      <td>0.000000</td>\n",
       "      <td>0.105263</td>\n",
       "    </tr>\n",
       "    <tr>\n",
       "      <th>2</th>\n",
       "      <td>pemain berada antaranya brasil stadion klub am...</td>\n",
       "      <td>Tim sepak bola di Brasil mengatakan mereka aka...</td>\n",
       "      <td>ribuan orang berkumpul di kota chapeco, brasil...</td>\n",
       "      <td>0.205882</td>\n",
       "      <td>0.060606</td>\n",
       "      <td>0.147059</td>\n",
       "    </tr>\n",
       "    <tr>\n",
       "      <th>3</th>\n",
       "      <td>dihindari operasi disebutkan bisa muncul dilar...</td>\n",
       "      <td>Disebutkan oleh TAK bahwa korban sipil tak bis...</td>\n",
       "      <td>kelompok militan kurdi tak mengatakan pihaknya...</td>\n",
       "      <td>0.218182</td>\n",
       "      <td>0.037736</td>\n",
       "      <td>0.181818</td>\n",
       "    </tr>\n",
       "    <tr>\n",
       "      <th>4</th>\n",
       "      <td>orang laporan meninggal dan india ada kota ser...</td>\n",
       "      <td>Di India sejauh ini terdapat lebih dari 3.500 ...</td>\n",
       "      <td>sejumlah tenaga kesehatan di india dilaporkan ...</td>\n",
       "      <td>0.131148</td>\n",
       "      <td>0.033898</td>\n",
       "      <td>0.131148</td>\n",
       "    </tr>\n",
       "    <tr>\n",
       "      <th>...</th>\n",
       "      <td>...</td>\n",
       "      <td>...</td>\n",
       "      <td>...</td>\n",
       "      <td>...</td>\n",
       "      <td>...</td>\n",
       "      <td>...</td>\n",
       "    </tr>\n",
       "    <tr>\n",
       "      <th>4775</th>\n",
       "      <td>mengepung house dikerahkan dilengkapi sydney a...</td>\n",
       "      <td>Ratusan polisi bersenjata lengkap dikerahkan u...</td>\n",
       "      <td>sedikitnya seorang pria bersenjata menyandera ...</td>\n",
       "      <td>0.317460</td>\n",
       "      <td>0.163934</td>\n",
       "      <td>0.190476</td>\n",
       "    </tr>\n",
       "    <tr>\n",
       "      <th>4776</th>\n",
       "      <td>berpendapat budi terkait didasarkan dilakukan ...</td>\n",
       "      <td>Jaksa mengatakan terdakwa menyalahgunakan kewe...</td>\n",
       "      <td>mantan deputi gubernur bank indonesia, budi mu...</td>\n",
       "      <td>0.153846</td>\n",
       "      <td>0.019608</td>\n",
       "      <td>0.076923</td>\n",
       "    </tr>\n",
       "    <tr>\n",
       "      <th>4777</th>\n",
       "      <td>anti-yahudi ledakan memastikan gerakan unjuk k...</td>\n",
       "      <td>Kanselir Merkel memastikan (gerakan) anti-Yahu...</td>\n",
       "      <td>kanselir jerman angela merkel mulai berbicara ...</td>\n",
       "      <td>0.260870</td>\n",
       "      <td>0.090909</td>\n",
       "      <td>0.260870</td>\n",
       "    </tr>\n",
       "    <tr>\n",
       "      <th>4778</th>\n",
       "      <td>menyelamatkan keita laga bermain kekalahan ero...</td>\n",
       "      <td>Seydou Keita menyelamatkan AS Roma dari kekala...</td>\n",
       "      <td>penampilan as roma tak kunjung membaik setelah...</td>\n",
       "      <td>0.343750</td>\n",
       "      <td>0.225806</td>\n",
       "      <td>0.281250</td>\n",
       "    </tr>\n",
       "    <tr>\n",
       "      <th>4779</th>\n",
       "      <td>ditahan daulah dikenal sementara milisi pembun...</td>\n",
       "      <td>James Foley tidak diketahui keberadaannya seja...</td>\n",
       "      <td>daulah islamiyah atau yang sebelumnya dikenal ...</td>\n",
       "      <td>0.188235</td>\n",
       "      <td>0.072289</td>\n",
       "      <td>0.164706</td>\n",
       "    </tr>\n",
       "  </tbody>\n",
       "</table>\n",
       "<p>4780 rows × 6 columns</p>\n",
       "</div>"
      ],
      "text/plain": [
       "                                             simple_nlg  \\\n",
       "0     with van lukisan juta vase meninggal tahun pop...   \n",
       "1     migran dukungan pemerintah orang kembali agust...   \n",
       "2     pemain berada antaranya brasil stadion klub am...   \n",
       "3     dihindari operasi disebutkan bisa muncul dilar...   \n",
       "4     orang laporan meninggal dan india ada kota ser...   \n",
       "...                                                 ...   \n",
       "4775  mengepung house dikerahkan dilengkapi sydney a...   \n",
       "4776  berpendapat budi terkait didasarkan dilakukan ...   \n",
       "4777  anti-yahudi ledakan memastikan gerakan unjuk k...   \n",
       "4778  menyelamatkan keita laga bermain kekalahan ero...   \n",
       "4779  ditahan daulah dikenal sementara milisi pembun...   \n",
       "\n",
       "                                            postprocess  \\\n",
       "0     Still Life, Vase with Daisies, and Poppies dib...   \n",
       "1     Pihak berwenang mengatakan migran tak terdafta...   \n",
       "2     Tim sepak bola di Brasil mengatakan mereka aka...   \n",
       "3     Disebutkan oleh TAK bahwa korban sipil tak bis...   \n",
       "4     Di India sejauh ini terdapat lebih dari 3.500 ...   \n",
       "...                                                 ...   \n",
       "4775  Ratusan polisi bersenjata lengkap dikerahkan u...   \n",
       "4776  Jaksa mengatakan terdakwa menyalahgunakan kewe...   \n",
       "4777  Kanselir Merkel memastikan (gerakan) anti-Yahu...   \n",
       "4778  Seydou Keita menyelamatkan AS Roma dari kekala...   \n",
       "4779  James Foley tidak diketahui keberadaannya seja...   \n",
       "\n",
       "                                                  label    rouge1    rouge2  \\\n",
       "0     sebuah mahakarya vincent van gogh, yang diluki...  0.226415  0.039216   \n",
       "1     ribuan pengungsi suriah punya waktu hingga sel...  0.210526  0.000000   \n",
       "2     ribuan orang berkumpul di kota chapeco, brasil...  0.205882  0.060606   \n",
       "3     kelompok militan kurdi tak mengatakan pihaknya...  0.218182  0.037736   \n",
       "4     sejumlah tenaga kesehatan di india dilaporkan ...  0.131148  0.033898   \n",
       "...                                                 ...       ...       ...   \n",
       "4775  sedikitnya seorang pria bersenjata menyandera ...  0.317460  0.163934   \n",
       "4776  mantan deputi gubernur bank indonesia, budi mu...  0.153846  0.019608   \n",
       "4777  kanselir jerman angela merkel mulai berbicara ...  0.260870  0.090909   \n",
       "4778  penampilan as roma tak kunjung membaik setelah...  0.343750  0.225806   \n",
       "4779  daulah islamiyah atau yang sebelumnya dikenal ...  0.188235  0.072289   \n",
       "\n",
       "        rougeL  \n",
       "0     0.150943  \n",
       "1     0.105263  \n",
       "2     0.147059  \n",
       "3     0.181818  \n",
       "4     0.131148  \n",
       "...        ...  \n",
       "4775  0.190476  \n",
       "4776  0.076923  \n",
       "4777  0.260870  \n",
       "4778  0.281250  \n",
       "4779  0.164706  \n",
       "\n",
       "[4780 rows x 6 columns]"
      ]
     },
     "execution_count": 5,
     "metadata": {},
     "output_type": "execute_result"
    }
   ],
   "source": [
    "df_baseline"
   ]
  },
  {
   "cell_type": "markdown",
   "metadata": {},
   "source": [
    "## Persentase kata di label summary yg muncul di graf "
   ]
  },
  {
   "cell_type": "code",
   "execution_count": 6,
   "metadata": {},
   "outputs": [],
   "source": [
    "from tqdm import tqdm"
   ]
  },
  {
   "cell_type": "code",
   "execution_count": 7,
   "metadata": {},
   "outputs": [
    {
     "data": {
      "text/plain": [
       "'sebuah mahakarya vincent van gogh, dilukis akhir kehidupannya, terjual new york sebesar us$61,8 juta rp752 miliar.'"
      ]
     },
     "execution_count": 7,
     "metadata": {},
     "output_type": "execute_result"
    }
   ],
   "source": [
    "from Sastrawi.StopWordRemover.StopWordRemoverFactory import StopWordRemoverFactory\n",
    "\n",
    "factory = StopWordRemoverFactory()\n",
    "stopword = factory.create_stop_word_remover()\n",
    "stopword.remove('sebuah mahakarya vincent van gogh, yang dilukis pada akhir kehidupannya, terjual di new york sebesar us$61,8 juta atau rp752 miliar.')"
   ]
  },
  {
   "cell_type": "code",
   "execution_count": 8,
   "metadata": {},
   "outputs": [],
   "source": [
    "from Sastrawi.Stemmer.StemmerFactory import StemmerFactory\n",
    "\n",
    "# create stemmer\n",
    "factory = StemmerFactory()\n",
    "stemmer = factory.create_stemmer()"
   ]
  },
  {
   "cell_type": "code",
   "execution_count": 9,
   "metadata": {},
   "outputs": [],
   "source": [
    "list_label = df_baseline['label'].values\n",
    "list_simplenlg = df_baseline['simple_nlg'].values"
   ]
  },
  {
   "cell_type": "code",
   "execution_count": 10,
   "metadata": {},
   "outputs": [
    {
     "name": "stderr",
     "output_type": "stream",
     "text": [
      "100%|██████████████████████████████████████████████████████████████████████████████| 4780/4780 [12:22<00:00,  6.44it/s]\n"
     ]
    }
   ],
   "source": [
    "list_occurance_percentage = []\n",
    "for i in tqdm(range(len(df_baseline))):\n",
    "    label = list_label[i]\n",
    "    simplenlg = list_simplenlg[i]\n",
    "    \n",
    "    label = stopword.remove(label)\n",
    "    label = stemmer.stem(label)\n",
    "    list_kata_label = label.split()\n",
    "    \n",
    "    list_kata_simplenlg = simplenlg.split()\n",
    "    \n",
    "#     print(list_kata_label)\n",
    "#     print(list_kata_simplenlg)\n",
    "    \n",
    "    cnt = 0\n",
    "    for kata in list_kata_label:\n",
    "        if kata in list_kata_simplenlg:\n",
    "            cnt+=1\n",
    "    list_occurance_percentage.append(cnt/len(list_kata_label)*100)"
   ]
  },
  {
   "cell_type": "code",
   "execution_count": 11,
   "metadata": {},
   "outputs": [],
   "source": [
    "df_result['percentage_occurance_basic_word_from_label'] = list_occurance_percentage"
   ]
  },
  {
   "cell_type": "code",
   "execution_count": 12,
   "metadata": {},
   "outputs": [
    {
     "data": {
      "text/html": [
       "<div>\n",
       "<style scoped>\n",
       "    .dataframe tbody tr th:only-of-type {\n",
       "        vertical-align: middle;\n",
       "    }\n",
       "\n",
       "    .dataframe tbody tr th {\n",
       "        vertical-align: top;\n",
       "    }\n",
       "\n",
       "    .dataframe thead th {\n",
       "        text-align: right;\n",
       "    }\n",
       "</style>\n",
       "<table border=\"1\" class=\"dataframe\">\n",
       "  <thead>\n",
       "    <tr style=\"text-align: right;\">\n",
       "      <th></th>\n",
       "      <th>pred</th>\n",
       "      <th>label</th>\n",
       "      <th>rouge1</th>\n",
       "      <th>rouge2</th>\n",
       "      <th>rougeL</th>\n",
       "      <th>percentage_occurance_basic_word_from_label</th>\n",
       "    </tr>\n",
       "  </thead>\n",
       "  <tbody>\n",
       "    <tr>\n",
       "      <th>2357</th>\n",
       "      <td>pasangan manusia david levy dan bisa menjadi d...</td>\n",
       "      <td>apakah anda akan berhubungan seks dengan robot...</td>\n",
       "      <td>0.0</td>\n",
       "      <td>0.0</td>\n",
       "      <td>0.0</td>\n",
       "      <td>36.363636</td>\n",
       "    </tr>\n",
       "    <tr>\n",
       "      <th>4624</th>\n",
       "      <td>klub sepak bola prancis dan berbeda enam menja...</td>\n",
       "      <td>zlatan ibrahimovic menyatakan akan meninggalka...</td>\n",
       "      <td>0.0</td>\n",
       "      <td>0.0</td>\n",
       "      <td>0.0</td>\n",
       "      <td>30.000000</td>\n",
       "    </tr>\n",
       "    <tr>\n",
       "      <th>2206</th>\n",
       "      <td>dua orang yang gagal mendaftarkan gajinya adal...</td>\n",
       "      <td>kenya mulai mencatat semua pegawai negeri seba...</td>\n",
       "      <td>0.0</td>\n",
       "      <td>0.0</td>\n",
       "      <td>0.0</td>\n",
       "      <td>28.571429</td>\n",
       "    </tr>\n",
       "    <tr>\n",
       "      <th>665</th>\n",
       "      <td>kemiskinan dan pengangguran di atas komitmen k...</td>\n",
       "      <td>dalam bidang sosial, berbagai aspek perlu diso...</td>\n",
       "      <td>0.0</td>\n",
       "      <td>0.0</td>\n",
       "      <td>0.0</td>\n",
       "      <td>20.000000</td>\n",
       "    </tr>\n",
       "    <tr>\n",
       "      <th>4185</th>\n",
       "      <td>jamia hafsa hafsa hafsa hafsa hafsa hafsa hafs...</td>\n",
       "      <td>madrasah untuk perempuan di ibukota pakistan, ...</td>\n",
       "      <td>0.0</td>\n",
       "      <td>0.0</td>\n",
       "      <td>0.0</td>\n",
       "      <td>20.000000</td>\n",
       "    </tr>\n",
       "    <tr>\n",
       "      <th>3213</th>\n",
       "      <td>dynamo menjuarai liga dan sepak bola pekan ini...</td>\n",
       "      <td>david beckham belum bersedia mengungkapkan klu...</td>\n",
       "      <td>0.0</td>\n",
       "      <td>0.0</td>\n",
       "      <td>0.0</td>\n",
       "      <td>20.000000</td>\n",
       "    </tr>\n",
       "    <tr>\n",
       "      <th>366</th>\n",
       "      <td>kementrian ikhwanul muslimin langsung menggreb...</td>\n",
       "      <td>bom di ibukota mesir, kairo, menewaskan enam o...</td>\n",
       "      <td>0.0</td>\n",
       "      <td>0.0</td>\n",
       "      <td>0.0</td>\n",
       "      <td>17.391304</td>\n",
       "    </tr>\n",
       "    <tr>\n",
       "      <th>4650</th>\n",
       "      <td>bilal yusufu mieraili menghadapi pembunuhan da...</td>\n",
       "      <td>dua pria cina suku uighur menyatakan tidak ber...</td>\n",
       "      <td>0.0</td>\n",
       "      <td>0.0</td>\n",
       "      <td>0.0</td>\n",
       "      <td>16.666667</td>\n",
       "    </tr>\n",
       "    <tr>\n",
       "      <th>1788</th>\n",
       "      <td>meninggalkan negeri ini, istri pergi dan muhri...</td>\n",
       "      <td>sistem elektronik yang memantau pergerakan per...</td>\n",
       "      <td>0.0</td>\n",
       "      <td>0.0</td>\n",
       "      <td>0.0</td>\n",
       "      <td>16.666667</td>\n",
       "    </tr>\n",
       "    <tr>\n",
       "      <th>4416</th>\n",
       "      <td>hassan nasrallah yang muncul menuduh israel me...</td>\n",
       "      <td>seorang komandan kelompok militan syiah lebano...</td>\n",
       "      <td>0.0</td>\n",
       "      <td>0.0</td>\n",
       "      <td>0.0</td>\n",
       "      <td>15.384615</td>\n",
       "    </tr>\n",
       "    <tr>\n",
       "      <th>1082</th>\n",
       "      <td>pengunjuk rasa menuntut yingluck shinawatra mu...</td>\n",
       "      <td>puluhan ribu anggota kelompok oposisi thailand...</td>\n",
       "      <td>0.0</td>\n",
       "      <td>0.0</td>\n",
       "      <td>0.0</td>\n",
       "      <td>15.000000</td>\n",
       "    </tr>\n",
       "    <tr>\n",
       "      <th>3274</th>\n",
       "      <td>uangnya besar, judie mcrae tidak punya uang ke...</td>\n",
       "      <td>di tengah puing-puing yang berserakan akibat t...</td>\n",
       "      <td>0.0</td>\n",
       "      <td>0.0</td>\n",
       "      <td>0.0</td>\n",
       "      <td>14.285714</td>\n",
       "    </tr>\n",
       "    <tr>\n",
       "      <th>2477</th>\n",
       "      <td>lolos ke pertandingan dinihari dan barcelona, ...</td>\n",
       "      <td>pelatih real madrid jose mourinho mengatakan t...</td>\n",
       "      <td>0.0</td>\n",
       "      <td>0.0</td>\n",
       "      <td>0.0</td>\n",
       "      <td>13.043478</td>\n",
       "    </tr>\n",
       "    <tr>\n",
       "      <th>4508</th>\n",
       "      <td>dan ada dua kamera merekam acara setempat dan ...</td>\n",
       "      <td>sebelum pandemi melanda, sekitar 15.000 peziar...</td>\n",
       "      <td>0.0</td>\n",
       "      <td>0.0</td>\n",
       "      <td>0.0</td>\n",
       "      <td>12.500000</td>\n",
       "    </tr>\n",
       "    <tr>\n",
       "      <th>4217</th>\n",
       "      <td>donard irlandia utara slieve usaha menggunakan...</td>\n",
       "      <td>empat obor paralimpiade dinyalakan di puncak t...</td>\n",
       "      <td>0.0</td>\n",
       "      <td>0.0</td>\n",
       "      <td>0.0</td>\n",
       "      <td>12.500000</td>\n",
       "    </tr>\n",
       "    <tr>\n",
       "      <th>3593</th>\n",
       "      <td>tempat barbeque dan spa lantai terbuka\\n</td>\n",
       "      <td>sebuah rumah yang bertengger di tebing curam d...</td>\n",
       "      <td>0.0</td>\n",
       "      <td>0.0</td>\n",
       "      <td>0.0</td>\n",
       "      <td>12.500000</td>\n",
       "    </tr>\n",
       "    <tr>\n",
       "      <th>2464</th>\n",
       "      <td>aqim membunuh operasi dan kerap diculik warga ...</td>\n",
       "      <td>seorang komandan milisi terkait al-qaeda yang ...</td>\n",
       "      <td>0.0</td>\n",
       "      <td>0.0</td>\n",
       "      <td>0.0</td>\n",
       "      <td>9.523810</td>\n",
       "    </tr>\n",
       "    <tr>\n",
       "      <th>1393</th>\n",
       "      <td>kencan lalu dipasang oleh darryll rowe dengan ...</td>\n",
       "      <td>seorang penata rambut dituduh sengaja menulark...</td>\n",
       "      <td>0.0</td>\n",
       "      <td>0.0</td>\n",
       "      <td>0.0</td>\n",
       "      <td>9.090909</td>\n",
       "    </tr>\n",
       "    <tr>\n",
       "      <th>3419</th>\n",
       "      <td>lagu justin dan timbaland timberlake masuk nom...</td>\n",
       "      <td>jay-z mengumumkan album terbarunya dengan judu...</td>\n",
       "      <td>0.0</td>\n",
       "      <td>0.0</td>\n",
       "      <td>0.0</td>\n",
       "      <td>7.692308</td>\n",
       "    </tr>\n",
       "    <tr>\n",
       "      <th>1154</th>\n",
       "      <td>peristiwa tahun ini sudah terjadi di indonesia...</td>\n",
       "      <td>presiden susilo bambang yudhoyono melakukan pe...</td>\n",
       "      <td>0.0</td>\n",
       "      <td>0.0</td>\n",
       "      <td>0.0</td>\n",
       "      <td>7.692308</td>\n",
       "    </tr>\n",
       "    <tr>\n",
       "      <th>453</th>\n",
       "      <td>kuartet dialog nasional jasa bukan organisasi ...</td>\n",
       "      <td>kelompok prodemokrasi tunisia meraih pengharga...</td>\n",
       "      <td>0.0</td>\n",
       "      <td>0.0</td>\n",
       "      <td>0.0</td>\n",
       "      <td>7.692308</td>\n",
       "    </tr>\n",
       "    <tr>\n",
       "      <th>2211</th>\n",
       "      <td>gelar juara newcastle ditekan oleh klub primer...</td>\n",
       "      <td>gelandang manchester united, jonny evans, meng...</td>\n",
       "      <td>0.0</td>\n",
       "      <td>0.0</td>\n",
       "      <td>0.0</td>\n",
       "      <td>6.666667</td>\n",
       "    </tr>\n",
       "    <tr>\n",
       "      <th>4494</th>\n",
       "      <td>anak-anak yang lebih besar yang ditinggalkan o...</td>\n",
       "      <td>langkah ini sama dengan revolusi industri deng...</td>\n",
       "      <td>0.0</td>\n",
       "      <td>0.0</td>\n",
       "      <td>0.0</td>\n",
       "      <td>6.666667</td>\n",
       "    </tr>\n",
       "    <tr>\n",
       "      <th>598</th>\n",
       "      <td>senjata api milik polisi manchester dimiliki d...</td>\n",
       "      <td>seorang perempuan di inggris ditembak di vagin...</td>\n",
       "      <td>0.0</td>\n",
       "      <td>0.0</td>\n",
       "      <td>0.0</td>\n",
       "      <td>6.666667</td>\n",
       "    </tr>\n",
       "    <tr>\n",
       "      <th>2007</th>\n",
       "      <td>tim riset membaca akurasinya -of tim riset men...</td>\n",
       "      <td>ilmuwan di jepang menyatakan telah melakukan s...</td>\n",
       "      <td>0.0</td>\n",
       "      <td>0.0</td>\n",
       "      <td>0.0</td>\n",
       "      <td>6.250000</td>\n",
       "    </tr>\n",
       "    <tr>\n",
       "      <th>3682</th>\n",
       "      <td>mereka tewas diduga terlibat dalam acara terse...</td>\n",
       "      <td>hakim pengadilan tinggi shah alam, malaysia, m...</td>\n",
       "      <td>0.0</td>\n",
       "      <td>0.0</td>\n",
       "      <td>0.0</td>\n",
       "      <td>5.000000</td>\n",
       "    </tr>\n",
       "    <tr>\n",
       "      <th>581</th>\n",
       "      <td>juara f1 2013 diraih sebastian vettel merupaka...</td>\n",
       "      <td>tiga balapan tidak masuk dalam kalender balapa...</td>\n",
       "      <td>0.0</td>\n",
       "      <td>0.0</td>\n",
       "      <td>0.0</td>\n",
       "      <td>0.000000</td>\n",
       "    </tr>\n",
       "    <tr>\n",
       "      <th>4420</th>\n",
       "      <td>roy hodgson melatih tim crystal palace u-21 in...</td>\n",
       "      <td>\"tiada banyak pilihan. jika dia tidak dimainka...</td>\n",
       "      <td>0.0</td>\n",
       "      <td>0.0</td>\n",
       "      <td>0.0</td>\n",
       "      <td>0.000000</td>\n",
       "    </tr>\n",
       "    <tr>\n",
       "      <th>4378</th>\n",
       "      <td>terdapat calon -of bintang dan badan show raci...</td>\n",
       "      <td>benedict cumberbatch mengatakan dirinya 'terpu...</td>\n",
       "      <td>0.0</td>\n",
       "      <td>0.0</td>\n",
       "      <td>0.0</td>\n",
       "      <td>0.000000</td>\n",
       "    </tr>\n",
       "    <tr>\n",
       "      <th>617</th>\n",
       "      <td>serangan tersangka pada november menewaskan 13...</td>\n",
       "      <td>presiden prancis, francois hollande, mengharap...</td>\n",
       "      <td>0.0</td>\n",
       "      <td>0.0</td>\n",
       "      <td>0.0</td>\n",
       "      <td>0.000000</td>\n",
       "    </tr>\n",
       "    <tr>\n",
       "      <th>4196</th>\n",
       "      <td>jumat jakarta, jl mh sudirman ruas jenderal ya...</td>\n",
       "      <td>traffic management center polda metro jaya men...</td>\n",
       "      <td>0.0</td>\n",
       "      <td>0.0</td>\n",
       "      <td>0.0</td>\n",
       "      <td>0.000000</td>\n",
       "    </tr>\n",
       "    <tr>\n",
       "      <th>696</th>\n",
       "      <td>wabah virus zika dan brasil yang dibatalkan me...</td>\n",
       "      <td>kamil rebacz sudah merencanakan liburan ke rep...</td>\n",
       "      <td>0.0</td>\n",
       "      <td>0.0</td>\n",
       "      <td>0.0</td>\n",
       "      <td>0.000000</td>\n",
       "    </tr>\n",
       "    <tr>\n",
       "      <th>1985</th>\n",
       "      <td>nfkb-nya memblokokir usia tikus 1100 hari -of ...</td>\n",
       "      <td>sekelompok ilmuwan di amerika serikat mengatak...</td>\n",
       "      <td>0.0</td>\n",
       "      <td>0.0</td>\n",
       "      <td>0.0</td>\n",
       "      <td>0.000000</td>\n",
       "    </tr>\n",
       "    <tr>\n",
       "      <th>876</th>\n",
       "      <td>mendengar tulisan anda, kata goldsmith, seoran...</td>\n",
       "      <td>sudah banyak artikel atau buku yang mengupas t...</td>\n",
       "      <td>0.0</td>\n",
       "      <td>0.0</td>\n",
       "      <td>0.0</td>\n",
       "      <td>0.000000</td>\n",
       "    </tr>\n",
       "    <tr>\n",
       "      <th>3579</th>\n",
       "      <td>aku ingin menikah, benjamin medrano membantahn...</td>\n",
       "      <td>walikota gay pertama di meksiko dilantik dalam...</td>\n",
       "      <td>0.0</td>\n",
       "      <td>0.0</td>\n",
       "      <td>0.0</td>\n",
       "      <td>0.000000</td>\n",
       "    </tr>\n",
       "    <tr>\n",
       "      <th>987</th>\n",
       "      <td>massa fpi berdemo dan tuntutan hukuman mati di...</td>\n",
       "      <td>para pengunjuk rasa di depan kedutaan besar am...</td>\n",
       "      <td>0.0</td>\n",
       "      <td>0.0</td>\n",
       "      <td>0.0</td>\n",
       "      <td>0.000000</td>\n",
       "    </tr>\n",
       "    <tr>\n",
       "      <th>3216</th>\n",
       "      <td>lebah anak membaca orang yang membacanya dan b...</td>\n",
       "      <td>“kwek..kwek.kwek..itu adalah bunyi suaraku. ta...</td>\n",
       "      <td>0.0</td>\n",
       "      <td>0.0</td>\n",
       "      <td>0.0</td>\n",
       "      <td>0.000000</td>\n",
       "    </tr>\n",
       "    <tr>\n",
       "      <th>1066</th>\n",
       "      <td>tidak kembali ke pakistan, ia dan suaminya nas...</td>\n",
       "      <td>mungkin karena penampilannya, para penerima ta...</td>\n",
       "      <td>0.0</td>\n",
       "      <td>0.0</td>\n",
       "      <td>0.0</td>\n",
       "      <td>0.000000</td>\n",
       "    </tr>\n",
       "    <tr>\n",
       "      <th>3137</th>\n",
       "      <td>love has won dipimpin oleh tahun kelompok sekt...</td>\n",
       "      <td>kepala polisi di desa saguache di colorado, am...</td>\n",
       "      <td>0.0</td>\n",
       "      <td>0.0</td>\n",
       "      <td>0.0</td>\n",
       "      <td>0.000000</td>\n",
       "    </tr>\n",
       "    <tr>\n",
       "      <th>2945</th>\n",
       "      <td>kerugiannya kecil, ganti rugi dan pengembalian...</td>\n",
       "      <td>seorang pria di inggris akhirnya menang dalam ...</td>\n",
       "      <td>0.0</td>\n",
       "      <td>0.0</td>\n",
       "      <td>0.0</td>\n",
       "      <td>0.000000</td>\n",
       "    </tr>\n",
       "    <tr>\n",
       "      <th>2679</th>\n",
       "      <td>pangkalan yang deras tiga meter dari kapal dan...</td>\n",
       "      <td>upaya pencarian para penumpang pesawat airasia...</td>\n",
       "      <td>0.0</td>\n",
       "      <td>0.0</td>\n",
       "      <td>0.0</td>\n",
       "      <td>0.000000</td>\n",
       "    </tr>\n",
       "    <tr>\n",
       "      <th>1110</th>\n",
       "      <td>inggris didirikan lebih dari 40 orang dan peru...</td>\n",
       "      <td>zandra johnson adalah bukti nyata tidak pernah...</td>\n",
       "      <td>0.0</td>\n",
       "      <td>0.0</td>\n",
       "      <td>0.0</td>\n",
       "      <td>0.000000</td>\n",
       "    </tr>\n",
       "    <tr>\n",
       "      <th>1145</th>\n",
       "      <td>pemimpin ibu putri itu diduga dapat menyebabka...</td>\n",
       "      <td>rakyat cina mengungkapkan kemarahan dan kekhaw...</td>\n",
       "      <td>0.0</td>\n",
       "      <td>0.0</td>\n",
       "      <td>0.0</td>\n",
       "      <td>0.000000</td>\n",
       "    </tr>\n",
       "    <tr>\n",
       "      <th>186</th>\n",
       "      <td>pengunjung dipajnag melukis jean-honore karya ...</td>\n",
       "      <td>sejak bulan februari lalu, sebuah lukisan tiru...</td>\n",
       "      <td>0.0</td>\n",
       "      <td>0.0</td>\n",
       "      <td>0.0</td>\n",
       "      <td>0.000000</td>\n",
       "    </tr>\n",
       "  </tbody>\n",
       "</table>\n",
       "</div>"
      ],
      "text/plain": [
       "                                                   pred  \\\n",
       "2357  pasangan manusia david levy dan bisa menjadi d...   \n",
       "4624  klub sepak bola prancis dan berbeda enam menja...   \n",
       "2206  dua orang yang gagal mendaftarkan gajinya adal...   \n",
       "665   kemiskinan dan pengangguran di atas komitmen k...   \n",
       "4185  jamia hafsa hafsa hafsa hafsa hafsa hafsa hafs...   \n",
       "3213  dynamo menjuarai liga dan sepak bola pekan ini...   \n",
       "366   kementrian ikhwanul muslimin langsung menggreb...   \n",
       "4650  bilal yusufu mieraili menghadapi pembunuhan da...   \n",
       "1788  meninggalkan negeri ini, istri pergi dan muhri...   \n",
       "4416  hassan nasrallah yang muncul menuduh israel me...   \n",
       "1082  pengunjuk rasa menuntut yingluck shinawatra mu...   \n",
       "3274  uangnya besar, judie mcrae tidak punya uang ke...   \n",
       "2477  lolos ke pertandingan dinihari dan barcelona, ...   \n",
       "4508  dan ada dua kamera merekam acara setempat dan ...   \n",
       "4217  donard irlandia utara slieve usaha menggunakan...   \n",
       "3593           tempat barbeque dan spa lantai terbuka\\n   \n",
       "2464  aqim membunuh operasi dan kerap diculik warga ...   \n",
       "1393  kencan lalu dipasang oleh darryll rowe dengan ...   \n",
       "3419  lagu justin dan timbaland timberlake masuk nom...   \n",
       "1154  peristiwa tahun ini sudah terjadi di indonesia...   \n",
       "453   kuartet dialog nasional jasa bukan organisasi ...   \n",
       "2211  gelar juara newcastle ditekan oleh klub primer...   \n",
       "4494  anak-anak yang lebih besar yang ditinggalkan o...   \n",
       "598   senjata api milik polisi manchester dimiliki d...   \n",
       "2007  tim riset membaca akurasinya -of tim riset men...   \n",
       "3682  mereka tewas diduga terlibat dalam acara terse...   \n",
       "581   juara f1 2013 diraih sebastian vettel merupaka...   \n",
       "4420  roy hodgson melatih tim crystal palace u-21 in...   \n",
       "4378  terdapat calon -of bintang dan badan show raci...   \n",
       "617   serangan tersangka pada november menewaskan 13...   \n",
       "4196  jumat jakarta, jl mh sudirman ruas jenderal ya...   \n",
       "696   wabah virus zika dan brasil yang dibatalkan me...   \n",
       "1985  nfkb-nya memblokokir usia tikus 1100 hari -of ...   \n",
       "876   mendengar tulisan anda, kata goldsmith, seoran...   \n",
       "3579  aku ingin menikah, benjamin medrano membantahn...   \n",
       "987   massa fpi berdemo dan tuntutan hukuman mati di...   \n",
       "3216  lebah anak membaca orang yang membacanya dan b...   \n",
       "1066  tidak kembali ke pakistan, ia dan suaminya nas...   \n",
       "3137  love has won dipimpin oleh tahun kelompok sekt...   \n",
       "2945  kerugiannya kecil, ganti rugi dan pengembalian...   \n",
       "2679  pangkalan yang deras tiga meter dari kapal dan...   \n",
       "1110  inggris didirikan lebih dari 40 orang dan peru...   \n",
       "1145  pemimpin ibu putri itu diduga dapat menyebabka...   \n",
       "186   pengunjung dipajnag melukis jean-honore karya ...   \n",
       "\n",
       "                                                  label  rouge1  rouge2  \\\n",
       "2357  apakah anda akan berhubungan seks dengan robot...     0.0     0.0   \n",
       "4624  zlatan ibrahimovic menyatakan akan meninggalka...     0.0     0.0   \n",
       "2206  kenya mulai mencatat semua pegawai negeri seba...     0.0     0.0   \n",
       "665   dalam bidang sosial, berbagai aspek perlu diso...     0.0     0.0   \n",
       "4185  madrasah untuk perempuan di ibukota pakistan, ...     0.0     0.0   \n",
       "3213  david beckham belum bersedia mengungkapkan klu...     0.0     0.0   \n",
       "366   bom di ibukota mesir, kairo, menewaskan enam o...     0.0     0.0   \n",
       "4650  dua pria cina suku uighur menyatakan tidak ber...     0.0     0.0   \n",
       "1788  sistem elektronik yang memantau pergerakan per...     0.0     0.0   \n",
       "4416  seorang komandan kelompok militan syiah lebano...     0.0     0.0   \n",
       "1082  puluhan ribu anggota kelompok oposisi thailand...     0.0     0.0   \n",
       "3274  di tengah puing-puing yang berserakan akibat t...     0.0     0.0   \n",
       "2477  pelatih real madrid jose mourinho mengatakan t...     0.0     0.0   \n",
       "4508  sebelum pandemi melanda, sekitar 15.000 peziar...     0.0     0.0   \n",
       "4217  empat obor paralimpiade dinyalakan di puncak t...     0.0     0.0   \n",
       "3593  sebuah rumah yang bertengger di tebing curam d...     0.0     0.0   \n",
       "2464  seorang komandan milisi terkait al-qaeda yang ...     0.0     0.0   \n",
       "1393  seorang penata rambut dituduh sengaja menulark...     0.0     0.0   \n",
       "3419  jay-z mengumumkan album terbarunya dengan judu...     0.0     0.0   \n",
       "1154  presiden susilo bambang yudhoyono melakukan pe...     0.0     0.0   \n",
       "453   kelompok prodemokrasi tunisia meraih pengharga...     0.0     0.0   \n",
       "2211  gelandang manchester united, jonny evans, meng...     0.0     0.0   \n",
       "4494  langkah ini sama dengan revolusi industri deng...     0.0     0.0   \n",
       "598   seorang perempuan di inggris ditembak di vagin...     0.0     0.0   \n",
       "2007  ilmuwan di jepang menyatakan telah melakukan s...     0.0     0.0   \n",
       "3682  hakim pengadilan tinggi shah alam, malaysia, m...     0.0     0.0   \n",
       "581   tiga balapan tidak masuk dalam kalender balapa...     0.0     0.0   \n",
       "4420  \"tiada banyak pilihan. jika dia tidak dimainka...     0.0     0.0   \n",
       "4378  benedict cumberbatch mengatakan dirinya 'terpu...     0.0     0.0   \n",
       "617   presiden prancis, francois hollande, mengharap...     0.0     0.0   \n",
       "4196  traffic management center polda metro jaya men...     0.0     0.0   \n",
       "696   kamil rebacz sudah merencanakan liburan ke rep...     0.0     0.0   \n",
       "1985  sekelompok ilmuwan di amerika serikat mengatak...     0.0     0.0   \n",
       "876   sudah banyak artikel atau buku yang mengupas t...     0.0     0.0   \n",
       "3579  walikota gay pertama di meksiko dilantik dalam...     0.0     0.0   \n",
       "987   para pengunjuk rasa di depan kedutaan besar am...     0.0     0.0   \n",
       "3216  “kwek..kwek.kwek..itu adalah bunyi suaraku. ta...     0.0     0.0   \n",
       "1066  mungkin karena penampilannya, para penerima ta...     0.0     0.0   \n",
       "3137  kepala polisi di desa saguache di colorado, am...     0.0     0.0   \n",
       "2945  seorang pria di inggris akhirnya menang dalam ...     0.0     0.0   \n",
       "2679  upaya pencarian para penumpang pesawat airasia...     0.0     0.0   \n",
       "1110  zandra johnson adalah bukti nyata tidak pernah...     0.0     0.0   \n",
       "1145  rakyat cina mengungkapkan kemarahan dan kekhaw...     0.0     0.0   \n",
       "186   sejak bulan februari lalu, sebuah lukisan tiru...     0.0     0.0   \n",
       "\n",
       "      rougeL  percentage_occurance_basic_word_from_label  \n",
       "2357     0.0                                   36.363636  \n",
       "4624     0.0                                   30.000000  \n",
       "2206     0.0                                   28.571429  \n",
       "665      0.0                                   20.000000  \n",
       "4185     0.0                                   20.000000  \n",
       "3213     0.0                                   20.000000  \n",
       "366      0.0                                   17.391304  \n",
       "4650     0.0                                   16.666667  \n",
       "1788     0.0                                   16.666667  \n",
       "4416     0.0                                   15.384615  \n",
       "1082     0.0                                   15.000000  \n",
       "3274     0.0                                   14.285714  \n",
       "2477     0.0                                   13.043478  \n",
       "4508     0.0                                   12.500000  \n",
       "4217     0.0                                   12.500000  \n",
       "3593     0.0                                   12.500000  \n",
       "2464     0.0                                    9.523810  \n",
       "1393     0.0                                    9.090909  \n",
       "3419     0.0                                    7.692308  \n",
       "1154     0.0                                    7.692308  \n",
       "453      0.0                                    7.692308  \n",
       "2211     0.0                                    6.666667  \n",
       "4494     0.0                                    6.666667  \n",
       "598      0.0                                    6.666667  \n",
       "2007     0.0                                    6.250000  \n",
       "3682     0.0                                    5.000000  \n",
       "581      0.0                                    0.000000  \n",
       "4420     0.0                                    0.000000  \n",
       "4378     0.0                                    0.000000  \n",
       "617      0.0                                    0.000000  \n",
       "4196     0.0                                    0.000000  \n",
       "696      0.0                                    0.000000  \n",
       "1985     0.0                                    0.000000  \n",
       "876      0.0                                    0.000000  \n",
       "3579     0.0                                    0.000000  \n",
       "987      0.0                                    0.000000  \n",
       "3216     0.0                                    0.000000  \n",
       "1066     0.0                                    0.000000  \n",
       "3137     0.0                                    0.000000  \n",
       "2945     0.0                                    0.000000  \n",
       "2679     0.0                                    0.000000  \n",
       "1110     0.0                                    0.000000  \n",
       "1145     0.0                                    0.000000  \n",
       "186      0.0                                    0.000000  "
      ]
     },
     "execution_count": 12,
     "metadata": {},
     "output_type": "execute_result"
    }
   ],
   "source": [
    "df_result[df_result['rouge1']==0].sort_values(by='percentage_occurance_basic_word_from_label', ascending=False)"
   ]
  },
  {
   "cell_type": "code",
   "execution_count": 13,
   "metadata": {},
   "outputs": [
    {
     "data": {
      "text/html": [
       "<div>\n",
       "<style scoped>\n",
       "    .dataframe tbody tr th:only-of-type {\n",
       "        vertical-align: middle;\n",
       "    }\n",
       "\n",
       "    .dataframe tbody tr th {\n",
       "        vertical-align: top;\n",
       "    }\n",
       "\n",
       "    .dataframe thead th {\n",
       "        text-align: right;\n",
       "    }\n",
       "</style>\n",
       "<table border=\"1\" class=\"dataframe\">\n",
       "  <thead>\n",
       "    <tr style=\"text-align: right;\">\n",
       "      <th></th>\n",
       "      <th>pred</th>\n",
       "      <th>label</th>\n",
       "      <th>rouge1</th>\n",
       "      <th>rouge2</th>\n",
       "      <th>rougeL</th>\n",
       "      <th>percentage_occurance_basic_word_from_label</th>\n",
       "    </tr>\n",
       "  </thead>\n",
       "  <tbody>\n",
       "    <tr>\n",
       "      <th>4315</th>\n",
       "      <td>kata chappy, penerbangan yang melanggar undang...</td>\n",
       "      <td>langkah bupati di ngada, nusa tenggara timur u...</td>\n",
       "      <td>0.263158</td>\n",
       "      <td>0.055556</td>\n",
       "      <td>0.157895</td>\n",
       "      <td>0.0</td>\n",
       "    </tr>\n",
       "    <tr>\n",
       "      <th>2369</th>\n",
       "      <td>sepanjang tahun ini, oman telah pindah dari em...</td>\n",
       "      <td>aparat amerika serikat memindahkan enam tahana...</td>\n",
       "      <td>0.250000</td>\n",
       "      <td>0.000000</td>\n",
       "      <td>0.083333</td>\n",
       "      <td>0.0</td>\n",
       "    </tr>\n",
       "    <tr>\n",
       "      <th>867</th>\n",
       "      <td>saat sedang suka mengerjakan tugas dan sedang ...</td>\n",
       "      <td>bereskan alasan anda menunda sejumlah pekerjaa...</td>\n",
       "      <td>0.250000</td>\n",
       "      <td>0.000000</td>\n",
       "      <td>0.166667</td>\n",
       "      <td>0.0</td>\n",
       "    </tr>\n",
       "    <tr>\n",
       "      <th>369</th>\n",
       "      <td>4000 juta atau harga yang diduga ditemukan tin...</td>\n",
       "      <td>apa yang anda bayangkan bisa ditemukan di bali...</td>\n",
       "      <td>0.200000</td>\n",
       "      <td>0.000000</td>\n",
       "      <td>0.200000</td>\n",
       "      <td>0.0</td>\n",
       "    </tr>\n",
       "    <tr>\n",
       "      <th>3690</th>\n",
       "      <td>serangan indonesia lalu november serupa di par...</td>\n",
       "      <td>mantan kepala bnpt, ansyaad mbai, berpendapat ...</td>\n",
       "      <td>0.195122</td>\n",
       "      <td>0.000000</td>\n",
       "      <td>0.146341</td>\n",
       "      <td>0.0</td>\n",
       "    </tr>\n",
       "    <tr>\n",
       "      <th>...</th>\n",
       "      <td>...</td>\n",
       "      <td>...</td>\n",
       "      <td>...</td>\n",
       "      <td>...</td>\n",
       "      <td>...</td>\n",
       "      <td>...</td>\n",
       "    </tr>\n",
       "    <tr>\n",
       "      <th>3216</th>\n",
       "      <td>lebah anak membaca orang yang membacanya dan b...</td>\n",
       "      <td>“kwek..kwek.kwek..itu adalah bunyi suaraku. ta...</td>\n",
       "      <td>0.000000</td>\n",
       "      <td>0.000000</td>\n",
       "      <td>0.000000</td>\n",
       "      <td>0.0</td>\n",
       "    </tr>\n",
       "    <tr>\n",
       "      <th>1066</th>\n",
       "      <td>tidak kembali ke pakistan, ia dan suaminya nas...</td>\n",
       "      <td>mungkin karena penampilannya, para penerima ta...</td>\n",
       "      <td>0.000000</td>\n",
       "      <td>0.000000</td>\n",
       "      <td>0.000000</td>\n",
       "      <td>0.0</td>\n",
       "    </tr>\n",
       "    <tr>\n",
       "      <th>3137</th>\n",
       "      <td>love has won dipimpin oleh tahun kelompok sekt...</td>\n",
       "      <td>kepala polisi di desa saguache di colorado, am...</td>\n",
       "      <td>0.000000</td>\n",
       "      <td>0.000000</td>\n",
       "      <td>0.000000</td>\n",
       "      <td>0.0</td>\n",
       "    </tr>\n",
       "    <tr>\n",
       "      <th>1110</th>\n",
       "      <td>inggris didirikan lebih dari 40 orang dan peru...</td>\n",
       "      <td>zandra johnson adalah bukti nyata tidak pernah...</td>\n",
       "      <td>0.000000</td>\n",
       "      <td>0.000000</td>\n",
       "      <td>0.000000</td>\n",
       "      <td>0.0</td>\n",
       "    </tr>\n",
       "    <tr>\n",
       "      <th>987</th>\n",
       "      <td>massa fpi berdemo dan tuntutan hukuman mati di...</td>\n",
       "      <td>para pengunjuk rasa di depan kedutaan besar am...</td>\n",
       "      <td>0.000000</td>\n",
       "      <td>0.000000</td>\n",
       "      <td>0.000000</td>\n",
       "      <td>0.0</td>\n",
       "    </tr>\n",
       "  </tbody>\n",
       "</table>\n",
       "<p>81 rows × 6 columns</p>\n",
       "</div>"
      ],
      "text/plain": [
       "                                                   pred  \\\n",
       "4315  kata chappy, penerbangan yang melanggar undang...   \n",
       "2369  sepanjang tahun ini, oman telah pindah dari em...   \n",
       "867   saat sedang suka mengerjakan tugas dan sedang ...   \n",
       "369   4000 juta atau harga yang diduga ditemukan tin...   \n",
       "3690  serangan indonesia lalu november serupa di par...   \n",
       "...                                                 ...   \n",
       "3216  lebah anak membaca orang yang membacanya dan b...   \n",
       "1066  tidak kembali ke pakistan, ia dan suaminya nas...   \n",
       "3137  love has won dipimpin oleh tahun kelompok sekt...   \n",
       "1110  inggris didirikan lebih dari 40 orang dan peru...   \n",
       "987   massa fpi berdemo dan tuntutan hukuman mati di...   \n",
       "\n",
       "                                                  label    rouge1    rouge2  \\\n",
       "4315  langkah bupati di ngada, nusa tenggara timur u...  0.263158  0.055556   \n",
       "2369  aparat amerika serikat memindahkan enam tahana...  0.250000  0.000000   \n",
       "867   bereskan alasan anda menunda sejumlah pekerjaa...  0.250000  0.000000   \n",
       "369   apa yang anda bayangkan bisa ditemukan di bali...  0.200000  0.000000   \n",
       "3690  mantan kepala bnpt, ansyaad mbai, berpendapat ...  0.195122  0.000000   \n",
       "...                                                 ...       ...       ...   \n",
       "3216  “kwek..kwek.kwek..itu adalah bunyi suaraku. ta...  0.000000  0.000000   \n",
       "1066  mungkin karena penampilannya, para penerima ta...  0.000000  0.000000   \n",
       "3137  kepala polisi di desa saguache di colorado, am...  0.000000  0.000000   \n",
       "1110  zandra johnson adalah bukti nyata tidak pernah...  0.000000  0.000000   \n",
       "987   para pengunjuk rasa di depan kedutaan besar am...  0.000000  0.000000   \n",
       "\n",
       "        rougeL  percentage_occurance_basic_word_from_label  \n",
       "4315  0.157895                                         0.0  \n",
       "2369  0.083333                                         0.0  \n",
       "867   0.166667                                         0.0  \n",
       "369   0.200000                                         0.0  \n",
       "3690  0.146341                                         0.0  \n",
       "...        ...                                         ...  \n",
       "3216  0.000000                                         0.0  \n",
       "1066  0.000000                                         0.0  \n",
       "3137  0.000000                                         0.0  \n",
       "1110  0.000000                                         0.0  \n",
       "987   0.000000                                         0.0  \n",
       "\n",
       "[81 rows x 6 columns]"
      ]
     },
     "execution_count": 13,
     "metadata": {},
     "output_type": "execute_result"
    }
   ],
   "source": [
    "df_result[df_result['percentage_occurance_basic_word_from_label']==0].sort_values(by='rouge1', ascending=False)"
   ]
  },
  {
   "cell_type": "code",
   "execution_count": 14,
   "metadata": {},
   "outputs": [
    {
     "data": {
      "image/png": "[encoded data removed]",
      "text/plain": [
       "<Figure size 432x288 with 1 Axes>"
      ]
     },
     "metadata": {
      "needs_background": "light"
     },
     "output_type": "display_data"
    }
   ],
   "source": [
    "import matplotlib.pyplot as plt\n",
    "\n",
    "x = df_result['percentage_occurance_basic_word_from_label'].values\n",
    "y = df_result['rouge1'].values\n",
    "\n",
    "plt.scatter(x, y)\n",
    "plt.show()"
   ]
  },
  {
   "cell_type": "code",
   "execution_count": 15,
   "metadata": {},
   "outputs": [
    {
     "data": {
      "text/plain": [
       "0.6679032670024816"
      ]
     },
     "execution_count": 15,
     "metadata": {},
     "output_type": "execute_result"
    }
   ],
   "source": [
    "df_result['percentage_occurance_basic_word_from_label'].corr(df_result['rouge1'])"
   ]
  },
  {
   "cell_type": "code",
   "execution_count": 16,
   "metadata": {},
   "outputs": [
    {
     "data": {
      "text/plain": [
       "24.014934636921737"
      ]
     },
     "execution_count": 16,
     "metadata": {},
     "output_type": "execute_result"
    }
   ],
   "source": [
    "sum(df_result['percentage_occurance_basic_word_from_label'].values)/len(df_result)"
   ]
  },
  {
   "cell_type": "code",
   "execution_count": 17,
   "metadata": {},
   "outputs": [
    {
     "data": {
      "text/plain": [
       "0.2319977970430666"
      ]
     },
     "execution_count": 17,
     "metadata": {},
     "output_type": "execute_result"
    }
   ],
   "source": [
    "sum(df_result['rouge1'].values)/len(df_result)"
   ]
  },
  {
   "cell_type": "code",
   "execution_count": null,
   "metadata": {},
   "outputs": [],
   "source": []
  },
  {
   "cell_type": "code",
   "execution_count": 18,
   "metadata": {},
   "outputs": [],
   "source": [
    "idx = 867"
   ]
  },
  {
   "cell_type": "code",
   "execution_count": 19,
   "metadata": {},
   "outputs": [
    {
     "data": {
      "text/plain": [
       "'pekerjaan kebiasaan menyenangkan saat dan menunda-nunda membuat buruk tugas melakukan suasana emosi'"
      ]
     },
     "execution_count": 19,
     "metadata": {},
     "output_type": "execute_result"
    }
   ],
   "source": [
    "df_baseline.iloc[idx]['simple_nlg']"
   ]
  },
  {
   "cell_type": "code",
   "execution_count": 20,
   "metadata": {},
   "outputs": [
    {
     "data": {
      "text/plain": [
       "'bereskan alasan anda menunda sejumlah pekerjaan dan anda akan lebih mudah mencapai tujuan.\\n'"
      ]
     },
     "execution_count": 20,
     "metadata": {},
     "output_type": "execute_result"
    }
   ],
   "source": [
    "df_result.iloc[idx]['label']"
   ]
  },
  {
   "cell_type": "code",
   "execution_count": 21,
   "metadata": {},
   "outputs": [
    {
     "data": {
      "text/plain": [
       "'saat sedang suka mengerjakan tugas dan sedang sedang menunda-nunda pekerjaan\\n'"
      ]
     },
     "execution_count": 21,
     "metadata": {},
     "output_type": "execute_result"
    }
   ],
   "source": [
    "df_result.iloc[idx]['pred']"
   ]
  },
  {
   "cell_type": "code",
   "execution_count": 22,
   "metadata": {},
   "outputs": [
    {
     "data": {
      "text/plain": [
       "'gereja dan menyeruak adalah meneriakkan anglikan mengenakan anti-islam sayap australia muslim slogan-slogan demonstran pakaian'"
      ]
     },
     "execution_count": 22,
     "metadata": {},
     "output_type": "execute_result"
    }
   ],
   "source": [
    "df_baseline.iloc[4051]['simple_nlg']"
   ]
  },
  {
   "cell_type": "code",
   "execution_count": 23,
   "metadata": {},
   "outputs": [
    {
     "data": {
      "text/plain": [
       "'sejumlah demonstran sayap kanan menyeruak ke dalam sebuah gereja di australia seraya mengenakan pakaian muslim dan meneriakkan slogan-slogan anti-islam.\\n'"
      ]
     },
     "execution_count": 23,
     "metadata": {},
     "output_type": "execute_result"
    }
   ],
   "source": [
    "df_result.iloc[4051]['label']"
   ]
  },
  {
   "cell_type": "code",
   "execution_count": 24,
   "metadata": {},
   "outputs": [
    {
     "data": {
      "text/plain": [
       "'gereja anglikan adalah sayap sayap demonstran australia yang menyeruak mengenakan pakaian muslim dan meneriakkan slogan-slogan anti-islam\\n'"
      ]
     },
     "execution_count": 24,
     "metadata": {},
     "output_type": "execute_result"
    }
   ],
   "source": [
    "df_result.iloc[4051]['pred']"
   ]
  },
  {
   "cell_type": "code",
   "execution_count": 25,
   "metadata": {},
   "outputs": [],
   "source": [
    "list_penman = []\n",
    "with open('../preprocessed_summary/summary.amr.txt', encoding='utf8') as f:\n",
    "    for line in f:\n",
    "        list_penman.append(line)"
   ]
  },
  {
   "cell_type": "code",
   "execution_count": 26,
   "metadata": {},
   "outputs": [
    {
     "data": {
      "text/plain": [
       "'( kerja :mod-of ( saat :mod-of ( suka :ARG1-of ( laku :mod-of ( buat :ARG1 ( situasi :mod ( buruk ) :mod ( emosi ) ) :mod ( dan ) ) :mod ( sedang :mod ( menundanunda ) ) ) ) :mod ( tugas ) ) )\\n'"
      ]
     },
     "execution_count": 26,
     "metadata": {},
     "output_type": "execute_result"
    }
   ],
   "source": [
    "list_penman[idx]"
   ]
  },
  {
   "cell_type": "markdown",
   "metadata": {},
   "source": [
    "## perbandingan label train data dan test data"
   ]
  },
  {
   "cell_type": "code",
   "execution_count": 27,
   "metadata": {},
   "outputs": [],
   "source": [
    "import json\n",
    "\n",
    "from nltk.tokenize import sent_tokenize\n",
    "from rouge_score import rouge_scorer"
   ]
  },
  {
   "cell_type": "code",
   "execution_count": 28,
   "metadata": {},
   "outputs": [
    {
     "name": "stdout",
     "output_type": "stream",
     "text": [
      "4780\n"
     ]
    }
   ],
   "source": [
    "# Q: apakah teks summary yg dihasilkan cenderung serupa dengan kalimat 1 di artikel?\n",
    "\n",
    "json_file_test_path = '../../../peringkasan_abstraktif_amr/xlsum_indonesian/indonesian_test.jsonl'\n",
    "data = []\n",
    "with open(json_file_test_path,  encoding='utf-8') as f:\n",
    "    while True:\n",
    "        line = f.readline()\n",
    "        if (not line):\n",
    "            break\n",
    "        data.append(json.loads(line))\n",
    "print(len(data))"
   ]
  },
  {
   "cell_type": "code",
   "execution_count": 29,
   "metadata": {},
   "outputs": [
    {
     "data": {
      "text/plain": [
       "'Still Life, Vase with Daisies, and Poppies dibuat beberapa bulan sebelum van Gogh meninggal. Still Life, Vase with Daisies, and Poppies melampaui perkiraan sebelumnya US$50 juta pada pelelangan di Sotheby. Lukisan Van Gogh dibuat di rumah dokter Prancisnya hanya beberapa bulan sebelum dirinya meninggal di tahun 1890. Karyanya ini adalah satu dari beberapa lukisannya yang terjual saat Van Gogh masih hidup. Rekor penjualan pelukis Belanda pada balai lelang adalah US$82,5 juta lewat Portrait of Dr Gachet. Lukisan tentang dokternya ini terjual pada tahun 1990. Pada pelelangan ini patung Alberto Giacometti dari tahun1951 terjual seharga lebih dari US$100 juta, di bawah rekor karya seniman Swiss itu senilai US$104,3 juta. Sementara pematung Amedeo Modigliani mencatat rekor baru lewat Tete patung kepala yang dibuat di tahun 1911-1912 dari batu kapur terjual lebih US$70 juta.'"
      ]
     },
     "execution_count": 29,
     "metadata": {},
     "output_type": "execute_result"
    }
   ],
   "source": [
    "data[0]['text']"
   ]
  },
  {
   "cell_type": "code",
   "execution_count": 30,
   "metadata": {},
   "outputs": [
    {
     "name": "stdout",
     "output_type": "stream",
     "text": [
      "4780\n"
     ]
    }
   ],
   "source": [
    "list_first_sentence = []\n",
    "for i in range(len(data)):\n",
    "    list_first_sentence.append(sent_tokenize(data[i]['text'])[0])\n",
    "print(len(list_first_sentence))"
   ]
  },
  {
   "cell_type": "code",
   "execution_count": 31,
   "metadata": {},
   "outputs": [
    {
     "data": {
      "text/plain": [
       "'Still Life, Vase with Daisies, and Poppies dibuat beberapa bulan sebelum van Gogh meninggal.'"
      ]
     },
     "execution_count": 31,
     "metadata": {},
     "output_type": "execute_result"
    }
   ],
   "source": [
    "list_first_sentence[0]"
   ]
  },
  {
   "cell_type": "code",
   "execution_count": 32,
   "metadata": {},
   "outputs": [
    {
     "name": "stdout",
     "output_type": "stream",
     "text": [
      "0.3718494657866606\n",
      "0.1258791696809903\n",
      "0.2538142501520087\n"
     ]
    }
   ],
   "source": [
    "scorer = rouge_scorer.RougeScorer(['rouge1','rouge2', 'rougeL'])\n",
    "rouge1 = 0\n",
    "rouge2 = 0\n",
    "rougeL = 0\n",
    "\n",
    "list_score_rouge1 = []\n",
    "list_score_rouge2 = []\n",
    "list_score_rougeL = []\n",
    "for i in range(len(list_label)):\n",
    "    scores = scorer.score(df_result['pred'][i].strip().lower(), list_first_sentence[i].strip().lower())\n",
    "#     print(scores)\n",
    "    list_score_rouge1.append(scores['rouge1'].fmeasure)\n",
    "    list_score_rouge2.append(scores['rouge2'].fmeasure)\n",
    "    list_score_rougeL.append(scores['rougeL'].fmeasure)\n",
    "print(sum(list_score_rouge1) / len(list_score_rouge1))\n",
    "print(sum(list_score_rouge2) / len(list_score_rouge2))\n",
    "print(sum(list_score_rougeL) / len(list_score_rougeL))"
   ]
  },
  {
   "cell_type": "code",
   "execution_count": 33,
   "metadata": {},
   "outputs": [],
   "source": [
    "# A: teks summary yg dihasilkan cenderung serupa dengan kalimat 1 di artikel (karena hasil simple NLG nya juga)"
   ]
  },
  {
   "cell_type": "code",
   "execution_count": 34,
   "metadata": {},
   "outputs": [
    {
     "name": "stdout",
     "output_type": "stream",
     "text": [
      "0.45536985019492593\n",
      "0.01604227772481436\n",
      "0.21285759050216335\n"
     ]
    }
   ],
   "source": [
    "scorer = rouge_scorer.RougeScorer(['rouge1','rouge2', 'rougeL'])\n",
    "rouge1 = 0\n",
    "rouge2 = 0\n",
    "rougeL = 0\n",
    "\n",
    "list_score_rouge1 = []\n",
    "list_score_rouge2 = []\n",
    "list_score_rougeL = []\n",
    "for i in range(len(list_label)):\n",
    "    scores = scorer.score(df_baseline['simple_nlg'][i].strip().lower(), list_first_sentence[i].strip().lower())\n",
    "#     print(scores)\n",
    "    list_score_rouge1.append(scores['rouge1'].fmeasure)\n",
    "    list_score_rouge2.append(scores['rouge2'].fmeasure)\n",
    "    list_score_rougeL.append(scores['rougeL'].fmeasure)\n",
    "print(sum(list_score_rouge1) / len(list_score_rouge1))\n",
    "print(sum(list_score_rouge2) / len(list_score_rouge2))\n",
    "print(sum(list_score_rougeL) / len(list_score_rougeL))"
   ]
  },
  {
   "cell_type": "code",
   "execution_count": 35,
   "metadata": {},
   "outputs": [],
   "source": [
    "# hasil pembangkitan teks berkaitan erat dengan hasil simple nlg"
   ]
  },
  {
   "cell_type": "code",
   "execution_count": 36,
   "metadata": {},
   "outputs": [
    {
     "name": "stdout",
     "output_type": "stream",
     "text": [
      "0.6070684708964608\n",
      "0.027991306637096577\n",
      "0.27452438201335455\n"
     ]
    }
   ],
   "source": [
    "scorer = rouge_scorer.RougeScorer(['rouge1','rouge2', 'rougeL'])\n",
    "rouge1 = 0\n",
    "rouge2 = 0\n",
    "rougeL = 0\n",
    "\n",
    "list_score_rouge1 = []\n",
    "list_score_rouge2 = []\n",
    "list_score_rougeL = []\n",
    "for i in range(len(list_label)):\n",
    "    scores = scorer.score(df_baseline['simple_nlg'][i].strip().lower(), df_result['pred'][i].strip().lower())\n",
    "#     print(scores)\n",
    "    list_score_rouge1.append(scores['rouge1'].fmeasure)\n",
    "    list_score_rouge2.append(scores['rouge2'].fmeasure)\n",
    "    list_score_rougeL.append(scores['rougeL'].fmeasure)\n",
    "print(sum(list_score_rouge1) / len(list_score_rouge1))\n",
    "print(sum(list_score_rouge2) / len(list_score_rouge2))\n",
    "print(sum(list_score_rougeL) / len(list_score_rougeL))"
   ]
  },
  {
   "cell_type": "code",
   "execution_count": 37,
   "metadata": {},
   "outputs": [],
   "source": [
    "# kalau di data train gimana? apakah label summary nya cenderung kalimat 1?"
   ]
  },
  {
   "cell_type": "code",
   "execution_count": 38,
   "metadata": {},
   "outputs": [
    {
     "name": "stdout",
     "output_type": "stream",
     "text": [
      "38242\n"
     ]
    }
   ],
   "source": [
    "json_file_test_path = '../../../peringkasan_abstraktif_amr/xlsum_indonesian/indonesian_train.jsonl'\n",
    "data = []\n",
    "with open(json_file_test_path,  encoding='utf-8') as f:\n",
    "    while True:\n",
    "        line = f.readline()\n",
    "        if (not line):\n",
    "            break\n",
    "        data.append(json.loads(line))\n",
    "print(len(data))"
   ]
  },
  {
   "cell_type": "code",
   "execution_count": 39,
   "metadata": {},
   "outputs": [
    {
     "name": "stdout",
     "output_type": "stream",
     "text": [
      "38242\n"
     ]
    }
   ],
   "source": [
    "list_first_sentence = []\n",
    "for i in range(len(data)):\n",
    "    list_first_sentence.append(sent_tokenize(data[i]['text'])[0])\n",
    "print(len(list_first_sentence))"
   ]
  },
  {
   "cell_type": "code",
   "execution_count": 40,
   "metadata": {},
   "outputs": [
    {
     "name": "stdout",
     "output_type": "stream",
     "text": [
      "38242\n"
     ]
    }
   ],
   "source": [
    "list_summ_train = []\n",
    "for i in range(len(data)):\n",
    "    list_summ_train.append(data[i]['summary'])\n",
    "print(len(list_summ_train))"
   ]
  },
  {
   "cell_type": "code",
   "execution_count": 41,
   "metadata": {},
   "outputs": [
    {
     "data": {
      "text/plain": [
       "'Seekor gajah mendadak mengamuk saat prosesi tahunan agama Buddha di Kolombo, Sri Lanka, sehingga membuat peserta upacara tunggang-langgang. Setidaknya 17 orang terluka.'"
      ]
     },
     "execution_count": 41,
     "metadata": {},
     "output_type": "execute_result"
    }
   ],
   "source": [
    "list_summ_train[0]"
   ]
  },
  {
   "cell_type": "code",
   "execution_count": 42,
   "metadata": {},
   "outputs": [
    {
     "data": {
      "text/plain": [
       "'Dilaporkan dua orang terluka cukup serius, sementara sisanya sudah diperbolehkan pulang setelah mendapatkan perawatan.'"
      ]
     },
     "execution_count": 42,
     "metadata": {},
     "output_type": "execute_result"
    }
   ],
   "source": [
    "list_first_sentence[0]"
   ]
  },
  {
   "cell_type": "code",
   "execution_count": 43,
   "metadata": {},
   "outputs": [
    {
     "name": "stdout",
     "output_type": "stream",
     "text": [
      "0.1785522840840355\n",
      "0.05608679255594139\n",
      "0.1431530214385633\n"
     ]
    }
   ],
   "source": [
    "scorer = rouge_scorer.RougeScorer(['rouge1','rouge2', 'rougeL'])\n",
    "rouge1 = 0\n",
    "rouge2 = 0\n",
    "rougeL = 0\n",
    "\n",
    "list_score_rouge1 = []\n",
    "list_score_rouge2 = []\n",
    "list_score_rougeL = []\n",
    "for i in range(len(list_label)):\n",
    "    scores = scorer.score(list_summ_train[i].strip().lower(), list_first_sentence[i].strip().lower())\n",
    "#     print(scores)\n",
    "    list_score_rouge1.append(scores['rouge1'].fmeasure)\n",
    "    list_score_rouge2.append(scores['rouge2'].fmeasure)\n",
    "    list_score_rougeL.append(scores['rougeL'].fmeasure)\n",
    "print(sum(list_score_rouge1) / len(list_score_rouge1))\n",
    "print(sum(list_score_rouge2) / len(list_score_rouge2))\n",
    "print(sum(list_score_rougeL) / len(list_score_rougeL))"
   ]
  },
  {
   "cell_type": "markdown",
   "metadata": {},
   "source": [
    "## analisis pembangkitan teks"
   ]
  },
  {
   "cell_type": "code",
   "execution_count": 44,
   "metadata": {},
   "outputs": [],
   "source": [
    "# jika graf summary nya sudah bagus apakah pembangkitan teks nya bagus? apa yg kurang?"
   ]
  },
  {
   "cell_type": "code",
   "execution_count": 45,
   "metadata": {},
   "outputs": [
    {
     "data": {
      "text/html": [
       "<div>\n",
       "<style scoped>\n",
       "    .dataframe tbody tr th:only-of-type {\n",
       "        vertical-align: middle;\n",
       "    }\n",
       "\n",
       "    .dataframe tbody tr th {\n",
       "        vertical-align: top;\n",
       "    }\n",
       "\n",
       "    .dataframe thead th {\n",
       "        text-align: right;\n",
       "    }\n",
       "</style>\n",
       "<table border=\"1\" class=\"dataframe\">\n",
       "  <thead>\n",
       "    <tr style=\"text-align: right;\">\n",
       "      <th></th>\n",
       "      <th>pred</th>\n",
       "      <th>label</th>\n",
       "      <th>rouge1</th>\n",
       "      <th>rouge2</th>\n",
       "      <th>rougeL</th>\n",
       "      <th>percentage_occurance_basic_word_from_label</th>\n",
       "    </tr>\n",
       "  </thead>\n",
       "  <tbody>\n",
       "    <tr>\n",
       "      <th>0</th>\n",
       "      <td>daisies and poppies still life vase with van g...</td>\n",
       "      <td>sebuah mahakarya vincent van gogh, yang diluki...</td>\n",
       "      <td>0.200000</td>\n",
       "      <td>0.052632</td>\n",
       "      <td>0.200000</td>\n",
       "      <td>16.666667</td>\n",
       "    </tr>\n",
       "    <tr>\n",
       "      <th>1</th>\n",
       "      <td>agustus, mereka akan pindah mendaftar naik bus...</td>\n",
       "      <td>ribuan pengungsi suriah punya waktu hingga sel...</td>\n",
       "      <td>0.227273</td>\n",
       "      <td>0.047619</td>\n",
       "      <td>0.136364</td>\n",
       "      <td>22.222222</td>\n",
       "    </tr>\n",
       "    <tr>\n",
       "      <th>2</th>\n",
       "      <td>dan chapecoense klub bermain di dunia sepak bo...</td>\n",
       "      <td>ribuan orang berkumpul di kota chapeco, brasil...</td>\n",
       "      <td>0.292683</td>\n",
       "      <td>0.102564</td>\n",
       "      <td>0.146341</td>\n",
       "      <td>26.315789</td>\n",
       "    </tr>\n",
       "    <tr>\n",
       "      <th>3</th>\n",
       "      <td>serangan yang katanya tumbuh dari kelompok ope...</td>\n",
       "      <td>kelompok militan kurdi tak mengatakan pihaknya...</td>\n",
       "      <td>0.222222</td>\n",
       "      <td>0.000000</td>\n",
       "      <td>0.166667</td>\n",
       "      <td>18.750000</td>\n",
       "    </tr>\n",
       "    <tr>\n",
       "      <th>4</th>\n",
       "      <td>tidak ada laporan dokter india yang terserang ...</td>\n",
       "      <td>sejumlah tenaga kesehatan di india dilaporkan ...</td>\n",
       "      <td>0.235294</td>\n",
       "      <td>0.062500</td>\n",
       "      <td>0.176471</td>\n",
       "      <td>14.285714</td>\n",
       "    </tr>\n",
       "  </tbody>\n",
       "</table>\n",
       "</div>"
      ],
      "text/plain": [
       "                                                pred  \\\n",
       "0  daisies and poppies still life vase with van g...   \n",
       "1  agustus, mereka akan pindah mendaftar naik bus...   \n",
       "2  dan chapecoense klub bermain di dunia sepak bo...   \n",
       "3  serangan yang katanya tumbuh dari kelompok ope...   \n",
       "4  tidak ada laporan dokter india yang terserang ...   \n",
       "\n",
       "                                               label    rouge1    rouge2  \\\n",
       "0  sebuah mahakarya vincent van gogh, yang diluki...  0.200000  0.052632   \n",
       "1  ribuan pengungsi suriah punya waktu hingga sel...  0.227273  0.047619   \n",
       "2  ribuan orang berkumpul di kota chapeco, brasil...  0.292683  0.102564   \n",
       "3  kelompok militan kurdi tak mengatakan pihaknya...  0.222222  0.000000   \n",
       "4  sejumlah tenaga kesehatan di india dilaporkan ...  0.235294  0.062500   \n",
       "\n",
       "     rougeL  percentage_occurance_basic_word_from_label  \n",
       "0  0.200000                                   16.666667  \n",
       "1  0.136364                                   22.222222  \n",
       "2  0.146341                                   26.315789  \n",
       "3  0.166667                                   18.750000  \n",
       "4  0.176471                                   14.285714  "
      ]
     },
     "execution_count": 45,
     "metadata": {},
     "output_type": "execute_result"
    }
   ],
   "source": [
    "df_result.head()"
   ]
  },
  {
   "cell_type": "code",
   "execution_count": 46,
   "metadata": {},
   "outputs": [
    {
     "data": {
      "text/html": [
       "<div>\n",
       "<style scoped>\n",
       "    .dataframe tbody tr th:only-of-type {\n",
       "        vertical-align: middle;\n",
       "    }\n",
       "\n",
       "    .dataframe tbody tr th {\n",
       "        vertical-align: top;\n",
       "    }\n",
       "\n",
       "    .dataframe thead th {\n",
       "        text-align: right;\n",
       "    }\n",
       "</style>\n",
       "<table border=\"1\" class=\"dataframe\">\n",
       "  <thead>\n",
       "    <tr style=\"text-align: right;\">\n",
       "      <th></th>\n",
       "      <th>simple_nlg</th>\n",
       "      <th>postprocess</th>\n",
       "      <th>label</th>\n",
       "      <th>rouge1</th>\n",
       "      <th>rouge2</th>\n",
       "      <th>rougeL</th>\n",
       "    </tr>\n",
       "  </thead>\n",
       "  <tbody>\n",
       "    <tr>\n",
       "      <th>0</th>\n",
       "      <td>with van lukisan juta vase meninggal tahun pop...</td>\n",
       "      <td>Still Life, Vase with Daisies, and Poppies dib...</td>\n",
       "      <td>sebuah mahakarya vincent van gogh, yang diluki...</td>\n",
       "      <td>0.226415</td>\n",
       "      <td>0.039216</td>\n",
       "      <td>0.150943</td>\n",
       "    </tr>\n",
       "    <tr>\n",
       "      <th>1</th>\n",
       "      <td>migran dukungan pemerintah orang kembali agust...</td>\n",
       "      <td>Pihak berwenang mengatakan migran tak terdafta...</td>\n",
       "      <td>ribuan pengungsi suriah punya waktu hingga sel...</td>\n",
       "      <td>0.210526</td>\n",
       "      <td>0.000000</td>\n",
       "      <td>0.105263</td>\n",
       "    </tr>\n",
       "    <tr>\n",
       "      <th>2</th>\n",
       "      <td>pemain berada antaranya brasil stadion klub am...</td>\n",
       "      <td>Tim sepak bola di Brasil mengatakan mereka aka...</td>\n",
       "      <td>ribuan orang berkumpul di kota chapeco, brasil...</td>\n",
       "      <td>0.205882</td>\n",
       "      <td>0.060606</td>\n",
       "      <td>0.147059</td>\n",
       "    </tr>\n",
       "    <tr>\n",
       "      <th>3</th>\n",
       "      <td>dihindari operasi disebutkan bisa muncul dilar...</td>\n",
       "      <td>Disebutkan oleh TAK bahwa korban sipil tak bis...</td>\n",
       "      <td>kelompok militan kurdi tak mengatakan pihaknya...</td>\n",
       "      <td>0.218182</td>\n",
       "      <td>0.037736</td>\n",
       "      <td>0.181818</td>\n",
       "    </tr>\n",
       "    <tr>\n",
       "      <th>4</th>\n",
       "      <td>orang laporan meninggal dan india ada kota ser...</td>\n",
       "      <td>Di India sejauh ini terdapat lebih dari 3.500 ...</td>\n",
       "      <td>sejumlah tenaga kesehatan di india dilaporkan ...</td>\n",
       "      <td>0.131148</td>\n",
       "      <td>0.033898</td>\n",
       "      <td>0.131148</td>\n",
       "    </tr>\n",
       "  </tbody>\n",
       "</table>\n",
       "</div>"
      ],
      "text/plain": [
       "                                          simple_nlg  \\\n",
       "0  with van lukisan juta vase meninggal tahun pop...   \n",
       "1  migran dukungan pemerintah orang kembali agust...   \n",
       "2  pemain berada antaranya brasil stadion klub am...   \n",
       "3  dihindari operasi disebutkan bisa muncul dilar...   \n",
       "4  orang laporan meninggal dan india ada kota ser...   \n",
       "\n",
       "                                         postprocess  \\\n",
       "0  Still Life, Vase with Daisies, and Poppies dib...   \n",
       "1  Pihak berwenang mengatakan migran tak terdafta...   \n",
       "2  Tim sepak bola di Brasil mengatakan mereka aka...   \n",
       "3  Disebutkan oleh TAK bahwa korban sipil tak bis...   \n",
       "4  Di India sejauh ini terdapat lebih dari 3.500 ...   \n",
       "\n",
       "                                               label    rouge1    rouge2  \\\n",
       "0  sebuah mahakarya vincent van gogh, yang diluki...  0.226415  0.039216   \n",
       "1  ribuan pengungsi suriah punya waktu hingga sel...  0.210526  0.000000   \n",
       "2  ribuan orang berkumpul di kota chapeco, brasil...  0.205882  0.060606   \n",
       "3  kelompok militan kurdi tak mengatakan pihaknya...  0.218182  0.037736   \n",
       "4  sejumlah tenaga kesehatan di india dilaporkan ...  0.131148  0.033898   \n",
       "\n",
       "     rougeL  \n",
       "0  0.150943  \n",
       "1  0.105263  \n",
       "2  0.147059  \n",
       "3  0.181818  \n",
       "4  0.131148  "
      ]
     },
     "execution_count": 46,
     "metadata": {},
     "output_type": "execute_result"
    }
   ],
   "source": [
    "df_baseline.head()"
   ]
  },
  {
   "cell_type": "code",
   "execution_count": 47,
   "metadata": {},
   "outputs": [
    {
     "data": {
      "text/html": [
       "<div>\n",
       "<style scoped>\n",
       "    .dataframe tbody tr th:only-of-type {\n",
       "        vertical-align: middle;\n",
       "    }\n",
       "\n",
       "    .dataframe tbody tr th {\n",
       "        vertical-align: top;\n",
       "    }\n",
       "\n",
       "    .dataframe thead th {\n",
       "        text-align: right;\n",
       "    }\n",
       "</style>\n",
       "<table border=\"1\" class=\"dataframe\">\n",
       "  <thead>\n",
       "    <tr style=\"text-align: right;\">\n",
       "      <th></th>\n",
       "      <th>pred</th>\n",
       "      <th>label</th>\n",
       "      <th>rouge1</th>\n",
       "      <th>rouge2</th>\n",
       "      <th>rougeL</th>\n",
       "      <th>percentage_occurance_basic_word_from_label</th>\n",
       "    </tr>\n",
       "  </thead>\n",
       "  <tbody>\n",
       "    <tr>\n",
       "      <th>3230</th>\n",
       "      <td>di amerika serikat news news news news news ne...</td>\n",
       "      <td>hampir semua warga di indonesia yang menjadi r...</td>\n",
       "      <td>0.045977</td>\n",
       "      <td>0.0</td>\n",
       "      <td>0.045977</td>\n",
       "      <td>44.000000</td>\n",
       "    </tr>\n",
       "    <tr>\n",
       "      <th>2631</th>\n",
       "      <td>24 buku sembilan dibeli atau hadiahnya turun m...</td>\n",
       "      <td>penurunan pembelian buku sebagai hadiah menyum...</td>\n",
       "      <td>0.083333</td>\n",
       "      <td>0.0</td>\n",
       "      <td>0.083333</td>\n",
       "      <td>41.666667</td>\n",
       "    </tr>\n",
       "    <tr>\n",
       "      <th>3618</th>\n",
       "      <td>di kawasan bay, kata di kawasan bay, krisis te...</td>\n",
       "      <td>kelaparan mengancam somalia akibat kemarau yan...</td>\n",
       "      <td>0.060606</td>\n",
       "      <td>0.0</td>\n",
       "      <td>0.060606</td>\n",
       "      <td>38.461538</td>\n",
       "    </tr>\n",
       "    <tr>\n",
       "      <th>4417</th>\n",
       "      <td>parlemen yang akan mengerjakan garis tersebut ...</td>\n",
       "      <td>satu dari lima anggota parlemen masih mempeker...</td>\n",
       "      <td>0.095238</td>\n",
       "      <td>0.0</td>\n",
       "      <td>0.095238</td>\n",
       "      <td>37.500000</td>\n",
       "    </tr>\n",
       "    <tr>\n",
       "      <th>893</th>\n",
       "      <td>final liga inggris champions musim ini sangat ...</td>\n",
       "      <td>chelsea kemungkinan tidak akan diperkuat pemai...</td>\n",
       "      <td>0.093023</td>\n",
       "      <td>0.0</td>\n",
       "      <td>0.093023</td>\n",
       "      <td>36.363636</td>\n",
       "    </tr>\n",
       "    <tr>\n",
       "      <th>...</th>\n",
       "      <td>...</td>\n",
       "      <td>...</td>\n",
       "      <td>...</td>\n",
       "      <td>...</td>\n",
       "      <td>...</td>\n",
       "      <td>...</td>\n",
       "    </tr>\n",
       "    <tr>\n",
       "      <th>836</th>\n",
       "      <td>lebih dari satu menit, jerman unggul lebih dar...</td>\n",
       "      <td>aljazair menjadi tim kedua dari benua afrika y...</td>\n",
       "      <td>0.097561</td>\n",
       "      <td>0.0</td>\n",
       "      <td>0.097561</td>\n",
       "      <td>0.000000</td>\n",
       "    </tr>\n",
       "    <tr>\n",
       "      <th>2945</th>\n",
       "      <td>kerugiannya kecil, ganti rugi dan pengembalian...</td>\n",
       "      <td>seorang pria di inggris akhirnya menang dalam ...</td>\n",
       "      <td>0.000000</td>\n",
       "      <td>0.0</td>\n",
       "      <td>0.000000</td>\n",
       "      <td>0.000000</td>\n",
       "    </tr>\n",
       "    <tr>\n",
       "      <th>4420</th>\n",
       "      <td>roy hodgson melatih tim crystal palace u-21 in...</td>\n",
       "      <td>\"tiada banyak pilihan. jika dia tidak dimainka...</td>\n",
       "      <td>0.000000</td>\n",
       "      <td>0.0</td>\n",
       "      <td>0.000000</td>\n",
       "      <td>0.000000</td>\n",
       "    </tr>\n",
       "    <tr>\n",
       "      <th>876</th>\n",
       "      <td>mendengar tulisan anda, kata goldsmith, seoran...</td>\n",
       "      <td>sudah banyak artikel atau buku yang mengupas t...</td>\n",
       "      <td>0.000000</td>\n",
       "      <td>0.0</td>\n",
       "      <td>0.000000</td>\n",
       "      <td>0.000000</td>\n",
       "    </tr>\n",
       "    <tr>\n",
       "      <th>2515</th>\n",
       "      <td>agustus, jennifer london yang terpilih tidak a...</td>\n",
       "      <td>seorang wanita berusia 27 tahun yang mengidap ...</td>\n",
       "      <td>0.057143</td>\n",
       "      <td>0.0</td>\n",
       "      <td>0.057143</td>\n",
       "      <td>0.000000</td>\n",
       "    </tr>\n",
       "  </tbody>\n",
       "</table>\n",
       "<p>389 rows × 6 columns</p>\n",
       "</div>"
      ],
      "text/plain": [
       "                                                   pred  \\\n",
       "3230  di amerika serikat news news news news news ne...   \n",
       "2631  24 buku sembilan dibeli atau hadiahnya turun m...   \n",
       "3618  di kawasan bay, kata di kawasan bay, krisis te...   \n",
       "4417  parlemen yang akan mengerjakan garis tersebut ...   \n",
       "893   final liga inggris champions musim ini sangat ...   \n",
       "...                                                 ...   \n",
       "836   lebih dari satu menit, jerman unggul lebih dar...   \n",
       "2945  kerugiannya kecil, ganti rugi dan pengembalian...   \n",
       "4420  roy hodgson melatih tim crystal palace u-21 in...   \n",
       "876   mendengar tulisan anda, kata goldsmith, seoran...   \n",
       "2515  agustus, jennifer london yang terpilih tidak a...   \n",
       "\n",
       "                                                  label    rouge1  rouge2  \\\n",
       "3230  hampir semua warga di indonesia yang menjadi r...  0.045977     0.0   \n",
       "2631  penurunan pembelian buku sebagai hadiah menyum...  0.083333     0.0   \n",
       "3618  kelaparan mengancam somalia akibat kemarau yan...  0.060606     0.0   \n",
       "4417  satu dari lima anggota parlemen masih mempeker...  0.095238     0.0   \n",
       "893   chelsea kemungkinan tidak akan diperkuat pemai...  0.093023     0.0   \n",
       "...                                                 ...       ...     ...   \n",
       "836   aljazair menjadi tim kedua dari benua afrika y...  0.097561     0.0   \n",
       "2945  seorang pria di inggris akhirnya menang dalam ...  0.000000     0.0   \n",
       "4420  \"tiada banyak pilihan. jika dia tidak dimainka...  0.000000     0.0   \n",
       "876   sudah banyak artikel atau buku yang mengupas t...  0.000000     0.0   \n",
       "2515  seorang wanita berusia 27 tahun yang mengidap ...  0.057143     0.0   \n",
       "\n",
       "        rougeL  percentage_occurance_basic_word_from_label  \n",
       "3230  0.045977                                   44.000000  \n",
       "2631  0.083333                                   41.666667  \n",
       "3618  0.060606                                   38.461538  \n",
       "4417  0.095238                                   37.500000  \n",
       "893   0.093023                                   36.363636  \n",
       "...        ...                                         ...  \n",
       "836   0.097561                                    0.000000  \n",
       "2945  0.000000                                    0.000000  \n",
       "4420  0.000000                                    0.000000  \n",
       "876   0.000000                                    0.000000  \n",
       "2515  0.057143                                    0.000000  \n",
       "\n",
       "[389 rows x 6 columns]"
      ]
     },
     "execution_count": 47,
     "metadata": {},
     "output_type": "execute_result"
    }
   ],
   "source": [
    "df_result[df_result['rouge1']<0.1].sort_values(by='percentage_occurance_basic_word_from_label', ascending=False)"
   ]
  },
  {
   "cell_type": "code",
   "execution_count": 48,
   "metadata": {
    "scrolled": true
   },
   "outputs": [
    {
     "name": "stdout",
     "output_type": "stream",
     "text": [
      "fake news khawatir perbedaan bohong berita responden negara hoaks indonesia internet dan proporsi tertinggi disurvei setahun amerika dibagikan asli tipisnya mengambil mengaku 18 palsu serikat\n",
      "hampir semua warga di indonesia yang menjadi responden jajak pendapat oleh bbc world service mengaku khawatir dengan makin kaburnya perbedaan antara hoaks (berita bohong atau berita palsu) dan berita asli yang beredar di internet.\n",
      "\n",
      "di amerika serikat news news news news news news news news news news news news news news news news news news news news news news news news news news news news news news news news news news news news news news news news news news news news news news news indonesia tahun ini\n",
      "\n"
     ]
    }
   ],
   "source": [
    "idx = 3230\n",
    "print(df_baseline.iloc[idx]['simple_nlg'])\n",
    "print(df_baseline.iloc[idx]['label'])\n",
    "print(df_result.iloc[idx]['pred'])"
   ]
  },
  {
   "cell_type": "code",
   "execution_count": 49,
   "metadata": {},
   "outputs": [],
   "source": [
    "list_penman = []\n",
    "with open('../preprocessed_summary/summary.amr.txt', encoding='utf8') as f:\n",
    "    for line in f:\n",
    "        list_penman.append(line)"
   ]
  },
  {
   "cell_type": "code",
   "execution_count": 50,
   "metadata": {},
   "outputs": [
    {
     "data": {
      "text/plain": [
       "'( fake :mod-of ( amerika :mod ( serikat ) :mod ( news ) :mod ( indonesia ) :mod-of ( negara :mod ( 18 ) :mod-of ( responden :mod-of ( proporsi :ARG0 ( aku :ARG1 ( khawatir :ARG1 ( hoaks ) :ARG0 ( guna ) :ARG1 ( tipis ) :ARG1 ( beda :mod ( berita :mod ( dan ) :mod ( asli ) :mod ( palsu ) :mod ( bohong ) :mod ( internet ) ) ) ) :ARG1 ( survei ) ) :ARG0-of ( capai :mod ( tinggi ) ) ) ) ) :mod ( tahun ) ) )\\n'"
      ]
     },
     "execution_count": 50,
     "metadata": {},
     "output_type": "execute_result"
    }
   ],
   "source": [
    "list_penman[idx]"
   ]
  },
  {
   "cell_type": "markdown",
   "metadata": {},
   "source": [
    "## get interval score"
   ]
  },
  {
   "cell_type": "code",
   "execution_count": 54,
   "metadata": {},
   "outputs": [
    {
     "data": {
      "text/plain": [
       "0.285714    84\n",
       "0.250000    84\n",
       "0.200000    71\n",
       "0.222222    67\n",
       "0.333333    65\n",
       "            ..\n",
       "0.274510     1\n",
       "0.204082     1\n",
       "0.440000     1\n",
       "0.212121     1\n",
       "0.450704     1\n",
       "Name: rouge1, Length: 499, dtype: int64"
      ]
     },
     "execution_count": 54,
     "metadata": {},
     "output_type": "execute_result"
    }
   ],
   "source": [
    "df_result['rouge2']"
   ]
  },
  {
   "cell_type": "code",
   "execution_count": 62,
   "metadata": {},
   "outputs": [],
   "source": [
    "intervals = [(0,0.05), (0.05,0.1), (0.1,0.15), (0.15,0.2), (0.2,0.25), (0.25,0.3), (0.3,1)]\n",
    "\n",
    "def get_interval(x):\n",
    "    for (mini,maxi) in intervals:\n",
    "        if (x >=mini and x < maxi):\n",
    "            return (mini,maxi)"
   ]
  },
  {
   "cell_type": "code",
   "execution_count": 60,
   "metadata": {},
   "outputs": [],
   "source": [
    "df_result['interval_rouge2'] = df_result['rouge2'].copy()"
   ]
  },
  {
   "cell_type": "code",
   "execution_count": 63,
   "metadata": {},
   "outputs": [],
   "source": [
    "df_result['interval_rouge2'] = df_result['interval_rouge2'].apply(lambda x: get_interval(x))"
   ]
  },
  {
   "cell_type": "code",
   "execution_count": 65,
   "metadata": {},
   "outputs": [
    {
     "data": {
      "text/plain": [
       "(0, 0.05)      2901\n",
       "(0.05, 0.1)    1221\n",
       "(0.1, 0.15)     436\n",
       "(0.15, 0.2)     140\n",
       "(0.2, 0.25)      60\n",
       "(0.25, 0.3)      15\n",
       "(0.3, 1)          7\n",
       "Name: interval_rouge2, dtype: int64"
      ]
     },
     "execution_count": 65,
     "metadata": {},
     "output_type": "execute_result"
    }
   ],
   "source": [
    "df_result['interval_rouge2'].value_counts()"
   ]
  },
  {
   "cell_type": "code",
   "execution_count": 66,
   "metadata": {},
   "outputs": [],
   "source": [
    "df_result['interval_rouge1'] = df_result['rouge1'].apply(lambda x: get_interval(x))"
   ]
  },
  {
   "cell_type": "code",
   "execution_count": 67,
   "metadata": {},
   "outputs": [
    {
     "data": {
      "text/plain": [
       "(0.3, 1)       1193\n",
       "(0.2, 0.25)     939\n",
       "(0.15, 0.2)     829\n",
       "(0.25, 0.3)     828\n",
       "(0.1, 0.15)     602\n",
       "(0.05, 0.1)     293\n",
       "(0, 0.05)        96\n",
       "Name: interval_rouge1, dtype: int64"
      ]
     },
     "execution_count": 67,
     "metadata": {},
     "output_type": "execute_result"
    }
   ],
   "source": [
    "df_result['interval_rouge1'].value_counts()"
   ]
  },
  {
   "cell_type": "code",
   "execution_count": 76,
   "metadata": {},
   "outputs": [
    {
     "data": {
      "text/html": [
       "<div>\n",
       "<style scoped>\n",
       "    .dataframe tbody tr th:only-of-type {\n",
       "        vertical-align: middle;\n",
       "    }\n",
       "\n",
       "    .dataframe tbody tr th {\n",
       "        vertical-align: top;\n",
       "    }\n",
       "\n",
       "    .dataframe thead th {\n",
       "        text-align: right;\n",
       "    }\n",
       "</style>\n",
       "<table border=\"1\" class=\"dataframe\">\n",
       "  <thead>\n",
       "    <tr style=\"text-align: right;\">\n",
       "      <th></th>\n",
       "      <th>pred</th>\n",
       "      <th>label</th>\n",
       "      <th>rouge1</th>\n",
       "      <th>rouge2</th>\n",
       "      <th>rougeL</th>\n",
       "      <th>percentage_occurance_basic_word_from_label</th>\n",
       "      <th>interval_rouge2</th>\n",
       "      <th>interval_rouge1</th>\n",
       "    </tr>\n",
       "  </thead>\n",
       "  <tbody>\n",
       "    <tr>\n",
       "      <th>4051</th>\n",
       "      <td>gereja anglikan adalah sayap sayap demonstran ...</td>\n",
       "      <td>sejumlah demonstran sayap kanan menyeruak ke d...</td>\n",
       "      <td>0.717949</td>\n",
       "      <td>0.432432</td>\n",
       "      <td>0.564103</td>\n",
       "      <td>40.000000</td>\n",
       "      <td>(0.3, 1)</td>\n",
       "      <td>(0.3, 1)</td>\n",
       "    </tr>\n",
       "    <tr>\n",
       "      <th>123</th>\n",
       "      <td>pernah dihukum seorang penasehat tim pengacara...</td>\n",
       "      <td>pengadilan banding malaysia mengubah keputusan...</td>\n",
       "      <td>0.600000</td>\n",
       "      <td>0.357143</td>\n",
       "      <td>0.600000</td>\n",
       "      <td>50.000000</td>\n",
       "      <td>(0.3, 1)</td>\n",
       "      <td>(0.3, 1)</td>\n",
       "    </tr>\n",
       "    <tr>\n",
       "      <th>790</th>\n",
       "      <td>dalam pertemuan puncak dengan presiden trump d...</td>\n",
       "      <td>delegasi diplomat amerika serikat sedang berad...</td>\n",
       "      <td>0.510638</td>\n",
       "      <td>0.355556</td>\n",
       "      <td>0.382979</td>\n",
       "      <td>57.894737</td>\n",
       "      <td>(0.3, 1)</td>\n",
       "      <td>(0.3, 1)</td>\n",
       "    </tr>\n",
       "    <tr>\n",
       "      <th>201</th>\n",
       "      <td>di kota oslo, almaty akan mengajukan diri menj...</td>\n",
       "      <td>enam kota, termasuk beijing dan stockholm, men...</td>\n",
       "      <td>0.486486</td>\n",
       "      <td>0.342857</td>\n",
       "      <td>0.486486</td>\n",
       "      <td>47.058824</td>\n",
       "      <td>(0.3, 1)</td>\n",
       "      <td>(0.3, 1)</td>\n",
       "    </tr>\n",
       "    <tr>\n",
       "      <th>2252</th>\n",
       "      <td>pangeran charles ahli mengatakan, virus corona...</td>\n",
       "      <td>pangeran charles, ahli waris tahta kerajaan in...</td>\n",
       "      <td>0.571429</td>\n",
       "      <td>0.340426</td>\n",
       "      <td>0.489796</td>\n",
       "      <td>47.368421</td>\n",
       "      <td>(0.3, 1)</td>\n",
       "      <td>(0.3, 1)</td>\n",
       "    </tr>\n",
       "    <tr>\n",
       "      <th>...</th>\n",
       "      <td>...</td>\n",
       "      <td>...</td>\n",
       "      <td>...</td>\n",
       "      <td>...</td>\n",
       "      <td>...</td>\n",
       "      <td>...</td>\n",
       "      <td>...</td>\n",
       "      <td>...</td>\n",
       "    </tr>\n",
       "    <tr>\n",
       "      <th>1084</th>\n",
       "      <td>pemerintah kenya yang dikompensasi oleh inggri...</td>\n",
       "      <td>pemerintah inggris akan meminta maaf dan memba...</td>\n",
       "      <td>0.277778</td>\n",
       "      <td>0.000000</td>\n",
       "      <td>0.166667</td>\n",
       "      <td>21.428571</td>\n",
       "      <td>(0, 0.05)</td>\n",
       "      <td>(0.25, 0.3)</td>\n",
       "    </tr>\n",
       "    <tr>\n",
       "      <th>2937</th>\n",
       "      <td>kepler orbitnya mirip kepler periode 452b yang...</td>\n",
       "      <td>kumpulan planet yang ditemukan teleskop kepler...</td>\n",
       "      <td>0.214286</td>\n",
       "      <td>0.000000</td>\n",
       "      <td>0.214286</td>\n",
       "      <td>23.076923</td>\n",
       "      <td>(0, 0.05)</td>\n",
       "      <td>(0.2, 0.25)</td>\n",
       "    </tr>\n",
       "    <tr>\n",
       "      <th>2938</th>\n",
       "      <td>kelompok itu menyerang dan polisi mengatakan p...</td>\n",
       "      <td>kota di prancis selatan, nice berduka jumat (3...</td>\n",
       "      <td>0.058824</td>\n",
       "      <td>0.000000</td>\n",
       "      <td>0.058824</td>\n",
       "      <td>6.666667</td>\n",
       "      <td>(0, 0.05)</td>\n",
       "      <td>(0.05, 0.1)</td>\n",
       "    </tr>\n",
       "    <tr>\n",
       "      <th>2939</th>\n",
       "      <td>hari ini di kantor, saya memutuskan untuk kabu...</td>\n",
       "      <td>sejumlah orang mungkin akan senang apabila dir...</td>\n",
       "      <td>0.047619</td>\n",
       "      <td>0.000000</td>\n",
       "      <td>0.047619</td>\n",
       "      <td>12.500000</td>\n",
       "      <td>(0, 0.05)</td>\n",
       "      <td>(0, 0.05)</td>\n",
       "    </tr>\n",
       "    <tr>\n",
       "      <th>2390</th>\n",
       "      <td>aaron ramsey mencetak gol arsenal wenger di pe...</td>\n",
       "      <td>arsenal memperkuat posisinya sebagai pimpinan ...</td>\n",
       "      <td>0.114286</td>\n",
       "      <td>0.000000</td>\n",
       "      <td>0.114286</td>\n",
       "      <td>7.142857</td>\n",
       "      <td>(0, 0.05)</td>\n",
       "      <td>(0.1, 0.15)</td>\n",
       "    </tr>\n",
       "  </tbody>\n",
       "</table>\n",
       "<p>4780 rows × 8 columns</p>\n",
       "</div>"
      ],
      "text/plain": [
       "                                                   pred  \\\n",
       "4051  gereja anglikan adalah sayap sayap demonstran ...   \n",
       "123   pernah dihukum seorang penasehat tim pengacara...   \n",
       "790   dalam pertemuan puncak dengan presiden trump d...   \n",
       "201   di kota oslo, almaty akan mengajukan diri menj...   \n",
       "2252  pangeran charles ahli mengatakan, virus corona...   \n",
       "...                                                 ...   \n",
       "1084  pemerintah kenya yang dikompensasi oleh inggri...   \n",
       "2937  kepler orbitnya mirip kepler periode 452b yang...   \n",
       "2938  kelompok itu menyerang dan polisi mengatakan p...   \n",
       "2939  hari ini di kantor, saya memutuskan untuk kabu...   \n",
       "2390  aaron ramsey mencetak gol arsenal wenger di pe...   \n",
       "\n",
       "                                                  label    rouge1    rouge2  \\\n",
       "4051  sejumlah demonstran sayap kanan menyeruak ke d...  0.717949  0.432432   \n",
       "123   pengadilan banding malaysia mengubah keputusan...  0.600000  0.357143   \n",
       "790   delegasi diplomat amerika serikat sedang berad...  0.510638  0.355556   \n",
       "201   enam kota, termasuk beijing dan stockholm, men...  0.486486  0.342857   \n",
       "2252  pangeran charles, ahli waris tahta kerajaan in...  0.571429  0.340426   \n",
       "...                                                 ...       ...       ...   \n",
       "1084  pemerintah inggris akan meminta maaf dan memba...  0.277778  0.000000   \n",
       "2937  kumpulan planet yang ditemukan teleskop kepler...  0.214286  0.000000   \n",
       "2938  kota di prancis selatan, nice berduka jumat (3...  0.058824  0.000000   \n",
       "2939  sejumlah orang mungkin akan senang apabila dir...  0.047619  0.000000   \n",
       "2390  arsenal memperkuat posisinya sebagai pimpinan ...  0.114286  0.000000   \n",
       "\n",
       "        rougeL  percentage_occurance_basic_word_from_label interval_rouge2  \\\n",
       "4051  0.564103                                   40.000000        (0.3, 1)   \n",
       "123   0.600000                                   50.000000        (0.3, 1)   \n",
       "790   0.382979                                   57.894737        (0.3, 1)   \n",
       "201   0.486486                                   47.058824        (0.3, 1)   \n",
       "2252  0.489796                                   47.368421        (0.3, 1)   \n",
       "...        ...                                         ...             ...   \n",
       "1084  0.166667                                   21.428571       (0, 0.05)   \n",
       "2937  0.214286                                   23.076923       (0, 0.05)   \n",
       "2938  0.058824                                    6.666667       (0, 0.05)   \n",
       "2939  0.047619                                   12.500000       (0, 0.05)   \n",
       "2390  0.114286                                    7.142857       (0, 0.05)   \n",
       "\n",
       "     interval_rouge1  \n",
       "4051        (0.3, 1)  \n",
       "123         (0.3, 1)  \n",
       "790         (0.3, 1)  \n",
       "201         (0.3, 1)  \n",
       "2252        (0.3, 1)  \n",
       "...              ...  \n",
       "1084     (0.25, 0.3)  \n",
       "2937     (0.2, 0.25)  \n",
       "2938     (0.05, 0.1)  \n",
       "2939       (0, 0.05)  \n",
       "2390     (0.1, 0.15)  \n",
       "\n",
       "[4780 rows x 8 columns]"
      ]
     },
     "execution_count": 76,
     "metadata": {},
     "output_type": "execute_result"
    }
   ],
   "source": [
    "df_result.sort_values('rouge2', ascending=False)"
   ]
  },
  {
   "cell_type": "code",
   "execution_count": 91,
   "metadata": {},
   "outputs": [
    {
     "name": "stdout",
     "output_type": "stream",
     "text": [
      "di kota oslo, almaty akan mengajukan diri menjadi tuan rumah olimpiade ioc pesta tahun ini di musim dingin.\n",
      "\n",
      "enam kota, termasuk beijing dan stockholm, mengajukan diri menjadi tuan rumah olimpiade musim dingin 2022, menurut komite olimpiade internasional.\n",
      "\n"
     ]
    }
   ],
   "source": [
    "idx = 201\n",
    "print(df_result.sort_values('rouge2', ascending=False)['pred'][idx])\n",
    "print(df_result.sort_values('rouge2', ascending=False)['label'][idx])"
   ]
  },
  {
   "cell_type": "code",
   "execution_count": 92,
   "metadata": {},
   "outputs": [
    {
     "name": "stdout",
     "output_type": "stream",
     "text": [
      "(kota :mod (masuk :ARG0 (oslo))\n",
      "      :mod (aju :ARG1 (diri)\n",
      "                :mod (jadi :mod (tuan :mod (rumah :name (olimpiade :mod (ioc))\n",
      "                                                  :name (pesta))\n",
      "                                      :mod (tahun)\n",
      "                                      :mod (musim :mod (dingin))))\n",
      "                :ARG0 (almaty))\n",
      "      :mod (krakow)\n",
      "      :mod (menang)\n",
      "      :mod-of (umum :mod (akan)))\n"
     ]
    }
   ],
   "source": [
    "print_amr(list_penman[idx])"
   ]
  },
  {
   "cell_type": "code",
   "execution_count": 83,
   "metadata": {},
   "outputs": [],
   "source": [
    "import penman\n",
    "from penman import constant"
   ]
  },
  {
   "cell_type": "code",
   "execution_count": 85,
   "metadata": {},
   "outputs": [],
   "source": [
    "def print_amr(amr):\n",
    "    g = penman.decode(amr)\n",
    "    anon_map = {}\n",
    "    attributes = []\n",
    "    for src, role, tgt in g.attributes():\n",
    "        if constant.type(tgt) in (constant.INTEGER, constant.FLOAT):\n",
    "            anon_val = f'number_{len(anon_map)}'\n",
    "            anon_map[anon_val] = tgt\n",
    "            tgt = anon_val\n",
    "        attributes.append((src, role, tgt))\n",
    "\n",
    "    g2 = penman.Graph(g.instances() + g.edges() + attributes)\n",
    "    print(penman.encode(g2))"
   ]
  },
  {
   "cell_type": "code",
   "execution_count": 86,
   "metadata": {},
   "outputs": [
    {
     "name": "stdout",
     "output_type": "stream",
     "text": [
      "(kena :mod (kata :ARG1 (temu :ARG0 (raja :mod (inggris)))\n",
      "                 :ARG0 (istana :name (buckingham)))\n",
      "      :ARG1 (virus :mod (corona))\n",
      "      :ARG0 (pangeran :name (charles :mod (ahli))\n",
      "                      :name (sesuai)\n",
      "                      :name (laku :ARG1 (skotlandia)\n",
      "                                  :mod (tahun)\n",
      "                                  :mod (dan)\n",
      "                                  :mod (sudah)\n",
      "                                  :ARG1 (isolasi :mod (mandiri)\n",
      "                                                 :mod (balmoral)))\n",
      "                      :name (akhir)))\n"
     ]
    }
   ],
   "source": []
  },
  {
   "cell_type": "code",
   "execution_count": null,
   "metadata": {},
   "outputs": [],
   "source": []
  }
 ],
 "metadata": {
  "kernelspec": {
   "display_name": "Python 3",
   "language": "python",
   "name": "python3"
  },
  "language_info": {
   "codemirror_mode": {
    "name": "ipython",
    "version": 3
   },
   "file_extension": ".py",
   "mimetype": "text/x-python",
   "name": "python",
   "nbconvert_exporter": "python",
   "pygments_lexer": "ipython3",
   "version": "3.7.6"
  }
 },
 "nbformat": 4,
 "nbformat_minor": 4
}
